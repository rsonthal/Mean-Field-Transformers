{
  "nbformat": 4,
  "nbformat_minor": 0,
  "metadata": {
    "colab": {
      "provenance": [],
      "gpuType": "A100"
    },
    "kernelspec": {
      "name": "python3",
      "display_name": "Python 3"
    },
    "language_info": {
      "name": "python"
    },
    "accelerator": "GPU",
    "widgets": {
      "application/vnd.jupyter.widget-state+json": {
        "2d8840f2f09a4abfaa92f0d296e3fd12": {
          "model_module": "@jupyter-widgets/controls",
          "model_name": "HBoxModel",
          "model_module_version": "1.5.0",
          "state": {
            "_dom_classes": [],
            "_model_module": "@jupyter-widgets/controls",
            "_model_module_version": "1.5.0",
            "_model_name": "HBoxModel",
            "_view_count": null,
            "_view_module": "@jupyter-widgets/controls",
            "_view_module_version": "1.5.0",
            "_view_name": "HBoxView",
            "box_style": "",
            "children": [
              "IPY_MODEL_a263879c9ef74e70823cff896bad6377",
              "IPY_MODEL_e38e43be5d274bda86a16fe949029dff",
              "IPY_MODEL_e2eca5f839664b0baa8ee86d11313ef0"
            ],
            "layout": "IPY_MODEL_cc56258c20224e77a17090525d79d3d0"
          }
        },
        "a263879c9ef74e70823cff896bad6377": {
          "model_module": "@jupyter-widgets/controls",
          "model_name": "HTMLModel",
          "model_module_version": "1.5.0",
          "state": {
            "_dom_classes": [],
            "_model_module": "@jupyter-widgets/controls",
            "_model_module_version": "1.5.0",
            "_model_name": "HTMLModel",
            "_view_count": null,
            "_view_module": "@jupyter-widgets/controls",
            "_view_module_version": "1.5.0",
            "_view_name": "HTMLView",
            "description": "",
            "description_tooltip": null,
            "layout": "IPY_MODEL_5c570e2bc2d1422595a3231f7b808b35",
            "placeholder": "​",
            "style": "IPY_MODEL_9c4c85e990264a44911c134bbf77c94c",
            "value": "100%"
          }
        },
        "e38e43be5d274bda86a16fe949029dff": {
          "model_module": "@jupyter-widgets/controls",
          "model_name": "FloatProgressModel",
          "model_module_version": "1.5.0",
          "state": {
            "_dom_classes": [],
            "_model_module": "@jupyter-widgets/controls",
            "_model_module_version": "1.5.0",
            "_model_name": "FloatProgressModel",
            "_view_count": null,
            "_view_module": "@jupyter-widgets/controls",
            "_view_module_version": "1.5.0",
            "_view_name": "ProgressView",
            "bar_style": "success",
            "description": "",
            "description_tooltip": null,
            "layout": "IPY_MODEL_d1c3084ec69f43ae81359fa6fa190452",
            "max": 49,
            "min": 0,
            "orientation": "horizontal",
            "style": "IPY_MODEL_9499f4beae5249469b92b8df0f13124a",
            "value": 49
          }
        },
        "e2eca5f839664b0baa8ee86d11313ef0": {
          "model_module": "@jupyter-widgets/controls",
          "model_name": "HTMLModel",
          "model_module_version": "1.5.0",
          "state": {
            "_dom_classes": [],
            "_model_module": "@jupyter-widgets/controls",
            "_model_module_version": "1.5.0",
            "_model_name": "HTMLModel",
            "_view_count": null,
            "_view_module": "@jupyter-widgets/controls",
            "_view_module_version": "1.5.0",
            "_view_name": "HTMLView",
            "description": "",
            "description_tooltip": null,
            "layout": "IPY_MODEL_3ad4cca86c4047839597849cd5124c25",
            "placeholder": "​",
            "style": "IPY_MODEL_5ef1130f15ec4873823fe53811783093",
            "value": " 49/49 [00:32&lt;00:00,  1.52it/s]"
          }
        },
        "cc56258c20224e77a17090525d79d3d0": {
          "model_module": "@jupyter-widgets/base",
          "model_name": "LayoutModel",
          "model_module_version": "1.2.0",
          "state": {
            "_model_module": "@jupyter-widgets/base",
            "_model_module_version": "1.2.0",
            "_model_name": "LayoutModel",
            "_view_count": null,
            "_view_module": "@jupyter-widgets/base",
            "_view_module_version": "1.2.0",
            "_view_name": "LayoutView",
            "align_content": null,
            "align_items": null,
            "align_self": null,
            "border": null,
            "bottom": null,
            "display": null,
            "flex": null,
            "flex_flow": null,
            "grid_area": null,
            "grid_auto_columns": null,
            "grid_auto_flow": null,
            "grid_auto_rows": null,
            "grid_column": null,
            "grid_gap": null,
            "grid_row": null,
            "grid_template_areas": null,
            "grid_template_columns": null,
            "grid_template_rows": null,
            "height": null,
            "justify_content": null,
            "justify_items": null,
            "left": null,
            "margin": null,
            "max_height": null,
            "max_width": null,
            "min_height": null,
            "min_width": null,
            "object_fit": null,
            "object_position": null,
            "order": null,
            "overflow": null,
            "overflow_x": null,
            "overflow_y": null,
            "padding": null,
            "right": null,
            "top": null,
            "visibility": null,
            "width": null
          }
        },
        "5c570e2bc2d1422595a3231f7b808b35": {
          "model_module": "@jupyter-widgets/base",
          "model_name": "LayoutModel",
          "model_module_version": "1.2.0",
          "state": {
            "_model_module": "@jupyter-widgets/base",
            "_model_module_version": "1.2.0",
            "_model_name": "LayoutModel",
            "_view_count": null,
            "_view_module": "@jupyter-widgets/base",
            "_view_module_version": "1.2.0",
            "_view_name": "LayoutView",
            "align_content": null,
            "align_items": null,
            "align_self": null,
            "border": null,
            "bottom": null,
            "display": null,
            "flex": null,
            "flex_flow": null,
            "grid_area": null,
            "grid_auto_columns": null,
            "grid_auto_flow": null,
            "grid_auto_rows": null,
            "grid_column": null,
            "grid_gap": null,
            "grid_row": null,
            "grid_template_areas": null,
            "grid_template_columns": null,
            "grid_template_rows": null,
            "height": null,
            "justify_content": null,
            "justify_items": null,
            "left": null,
            "margin": null,
            "max_height": null,
            "max_width": null,
            "min_height": null,
            "min_width": null,
            "object_fit": null,
            "object_position": null,
            "order": null,
            "overflow": null,
            "overflow_x": null,
            "overflow_y": null,
            "padding": null,
            "right": null,
            "top": null,
            "visibility": null,
            "width": null
          }
        },
        "9c4c85e990264a44911c134bbf77c94c": {
          "model_module": "@jupyter-widgets/controls",
          "model_name": "DescriptionStyleModel",
          "model_module_version": "1.5.0",
          "state": {
            "_model_module": "@jupyter-widgets/controls",
            "_model_module_version": "1.5.0",
            "_model_name": "DescriptionStyleModel",
            "_view_count": null,
            "_view_module": "@jupyter-widgets/base",
            "_view_module_version": "1.2.0",
            "_view_name": "StyleView",
            "description_width": ""
          }
        },
        "d1c3084ec69f43ae81359fa6fa190452": {
          "model_module": "@jupyter-widgets/base",
          "model_name": "LayoutModel",
          "model_module_version": "1.2.0",
          "state": {
            "_model_module": "@jupyter-widgets/base",
            "_model_module_version": "1.2.0",
            "_model_name": "LayoutModel",
            "_view_count": null,
            "_view_module": "@jupyter-widgets/base",
            "_view_module_version": "1.2.0",
            "_view_name": "LayoutView",
            "align_content": null,
            "align_items": null,
            "align_self": null,
            "border": null,
            "bottom": null,
            "display": null,
            "flex": null,
            "flex_flow": null,
            "grid_area": null,
            "grid_auto_columns": null,
            "grid_auto_flow": null,
            "grid_auto_rows": null,
            "grid_column": null,
            "grid_gap": null,
            "grid_row": null,
            "grid_template_areas": null,
            "grid_template_columns": null,
            "grid_template_rows": null,
            "height": null,
            "justify_content": null,
            "justify_items": null,
            "left": null,
            "margin": null,
            "max_height": null,
            "max_width": null,
            "min_height": null,
            "min_width": null,
            "object_fit": null,
            "object_position": null,
            "order": null,
            "overflow": null,
            "overflow_x": null,
            "overflow_y": null,
            "padding": null,
            "right": null,
            "top": null,
            "visibility": null,
            "width": null
          }
        },
        "9499f4beae5249469b92b8df0f13124a": {
          "model_module": "@jupyter-widgets/controls",
          "model_name": "ProgressStyleModel",
          "model_module_version": "1.5.0",
          "state": {
            "_model_module": "@jupyter-widgets/controls",
            "_model_module_version": "1.5.0",
            "_model_name": "ProgressStyleModel",
            "_view_count": null,
            "_view_module": "@jupyter-widgets/base",
            "_view_module_version": "1.2.0",
            "_view_name": "StyleView",
            "bar_color": null,
            "description_width": ""
          }
        },
        "3ad4cca86c4047839597849cd5124c25": {
          "model_module": "@jupyter-widgets/base",
          "model_name": "LayoutModel",
          "model_module_version": "1.2.0",
          "state": {
            "_model_module": "@jupyter-widgets/base",
            "_model_module_version": "1.2.0",
            "_model_name": "LayoutModel",
            "_view_count": null,
            "_view_module": "@jupyter-widgets/base",
            "_view_module_version": "1.2.0",
            "_view_name": "LayoutView",
            "align_content": null,
            "align_items": null,
            "align_self": null,
            "border": null,
            "bottom": null,
            "display": null,
            "flex": null,
            "flex_flow": null,
            "grid_area": null,
            "grid_auto_columns": null,
            "grid_auto_flow": null,
            "grid_auto_rows": null,
            "grid_column": null,
            "grid_gap": null,
            "grid_row": null,
            "grid_template_areas": null,
            "grid_template_columns": null,
            "grid_template_rows": null,
            "height": null,
            "justify_content": null,
            "justify_items": null,
            "left": null,
            "margin": null,
            "max_height": null,
            "max_width": null,
            "min_height": null,
            "min_width": null,
            "object_fit": null,
            "object_position": null,
            "order": null,
            "overflow": null,
            "overflow_x": null,
            "overflow_y": null,
            "padding": null,
            "right": null,
            "top": null,
            "visibility": null,
            "width": null
          }
        },
        "5ef1130f15ec4873823fe53811783093": {
          "model_module": "@jupyter-widgets/controls",
          "model_name": "DescriptionStyleModel",
          "model_module_version": "1.5.0",
          "state": {
            "_model_module": "@jupyter-widgets/controls",
            "_model_module_version": "1.5.0",
            "_model_name": "DescriptionStyleModel",
            "_view_count": null,
            "_view_module": "@jupyter-widgets/base",
            "_view_module_version": "1.2.0",
            "_view_name": "StyleView",
            "description_width": ""
          }
        },
        "d686a0763cbc4fbca52744936e75d9a9": {
          "model_module": "@jupyter-widgets/controls",
          "model_name": "HBoxModel",
          "model_module_version": "1.5.0",
          "state": {
            "_dom_classes": [],
            "_model_module": "@jupyter-widgets/controls",
            "_model_module_version": "1.5.0",
            "_model_name": "HBoxModel",
            "_view_count": null,
            "_view_module": "@jupyter-widgets/controls",
            "_view_module_version": "1.5.0",
            "_view_name": "HBoxView",
            "box_style": "",
            "children": [
              "IPY_MODEL_0a19c3283c354570954fc7ce58e8cbfb",
              "IPY_MODEL_391bf9c89ee544fbaa79327426ee9afe",
              "IPY_MODEL_a0c45a1014294f84962a702ee9fe8371"
            ],
            "layout": "IPY_MODEL_55299b35549f466dbadc19645ad12658"
          }
        },
        "0a19c3283c354570954fc7ce58e8cbfb": {
          "model_module": "@jupyter-widgets/controls",
          "model_name": "HTMLModel",
          "model_module_version": "1.5.0",
          "state": {
            "_dom_classes": [],
            "_model_module": "@jupyter-widgets/controls",
            "_model_module_version": "1.5.0",
            "_model_name": "HTMLModel",
            "_view_count": null,
            "_view_module": "@jupyter-widgets/controls",
            "_view_module_version": "1.5.0",
            "_view_name": "HTMLView",
            "description": "",
            "description_tooltip": null,
            "layout": "IPY_MODEL_6226ca77b5c44493b38c74aa2dc89830",
            "placeholder": "​",
            "style": "IPY_MODEL_6c7f9837f5294ebcb942935e2a011a32",
            "value": "100%"
          }
        },
        "391bf9c89ee544fbaa79327426ee9afe": {
          "model_module": "@jupyter-widgets/controls",
          "model_name": "FloatProgressModel",
          "model_module_version": "1.5.0",
          "state": {
            "_dom_classes": [],
            "_model_module": "@jupyter-widgets/controls",
            "_model_module_version": "1.5.0",
            "_model_name": "FloatProgressModel",
            "_view_count": null,
            "_view_module": "@jupyter-widgets/controls",
            "_view_module_version": "1.5.0",
            "_view_name": "ProgressView",
            "bar_style": "success",
            "description": "",
            "description_tooltip": null,
            "layout": "IPY_MODEL_ad98fb906e42468caad11706e4ea590d",
            "max": 1,
            "min": 0,
            "orientation": "horizontal",
            "style": "IPY_MODEL_eea0866eff2b42f0ab9685e6ad42a6ed",
            "value": 1
          }
        },
        "a0c45a1014294f84962a702ee9fe8371": {
          "model_module": "@jupyter-widgets/controls",
          "model_name": "HTMLModel",
          "model_module_version": "1.5.0",
          "state": {
            "_dom_classes": [],
            "_model_module": "@jupyter-widgets/controls",
            "_model_module_version": "1.5.0",
            "_model_name": "HTMLModel",
            "_view_count": null,
            "_view_module": "@jupyter-widgets/controls",
            "_view_module_version": "1.5.0",
            "_view_name": "HTMLView",
            "description": "",
            "description_tooltip": null,
            "layout": "IPY_MODEL_fea48dd5bbb24f238419a7125c00e817",
            "placeholder": "​",
            "style": "IPY_MODEL_f3be8b76108e436cb2e755e3106329e4",
            "value": " 1/1 [00:03&lt;00:00,  3.28s/it]"
          }
        },
        "55299b35549f466dbadc19645ad12658": {
          "model_module": "@jupyter-widgets/base",
          "model_name": "LayoutModel",
          "model_module_version": "1.2.0",
          "state": {
            "_model_module": "@jupyter-widgets/base",
            "_model_module_version": "1.2.0",
            "_model_name": "LayoutModel",
            "_view_count": null,
            "_view_module": "@jupyter-widgets/base",
            "_view_module_version": "1.2.0",
            "_view_name": "LayoutView",
            "align_content": null,
            "align_items": null,
            "align_self": null,
            "border": null,
            "bottom": null,
            "display": null,
            "flex": null,
            "flex_flow": null,
            "grid_area": null,
            "grid_auto_columns": null,
            "grid_auto_flow": null,
            "grid_auto_rows": null,
            "grid_column": null,
            "grid_gap": null,
            "grid_row": null,
            "grid_template_areas": null,
            "grid_template_columns": null,
            "grid_template_rows": null,
            "height": null,
            "justify_content": null,
            "justify_items": null,
            "left": null,
            "margin": null,
            "max_height": null,
            "max_width": null,
            "min_height": null,
            "min_width": null,
            "object_fit": null,
            "object_position": null,
            "order": null,
            "overflow": null,
            "overflow_x": null,
            "overflow_y": null,
            "padding": null,
            "right": null,
            "top": null,
            "visibility": null,
            "width": null
          }
        },
        "6226ca77b5c44493b38c74aa2dc89830": {
          "model_module": "@jupyter-widgets/base",
          "model_name": "LayoutModel",
          "model_module_version": "1.2.0",
          "state": {
            "_model_module": "@jupyter-widgets/base",
            "_model_module_version": "1.2.0",
            "_model_name": "LayoutModel",
            "_view_count": null,
            "_view_module": "@jupyter-widgets/base",
            "_view_module_version": "1.2.0",
            "_view_name": "LayoutView",
            "align_content": null,
            "align_items": null,
            "align_self": null,
            "border": null,
            "bottom": null,
            "display": null,
            "flex": null,
            "flex_flow": null,
            "grid_area": null,
            "grid_auto_columns": null,
            "grid_auto_flow": null,
            "grid_auto_rows": null,
            "grid_column": null,
            "grid_gap": null,
            "grid_row": null,
            "grid_template_areas": null,
            "grid_template_columns": null,
            "grid_template_rows": null,
            "height": null,
            "justify_content": null,
            "justify_items": null,
            "left": null,
            "margin": null,
            "max_height": null,
            "max_width": null,
            "min_height": null,
            "min_width": null,
            "object_fit": null,
            "object_position": null,
            "order": null,
            "overflow": null,
            "overflow_x": null,
            "overflow_y": null,
            "padding": null,
            "right": null,
            "top": null,
            "visibility": null,
            "width": null
          }
        },
        "6c7f9837f5294ebcb942935e2a011a32": {
          "model_module": "@jupyter-widgets/controls",
          "model_name": "DescriptionStyleModel",
          "model_module_version": "1.5.0",
          "state": {
            "_model_module": "@jupyter-widgets/controls",
            "_model_module_version": "1.5.0",
            "_model_name": "DescriptionStyleModel",
            "_view_count": null,
            "_view_module": "@jupyter-widgets/base",
            "_view_module_version": "1.2.0",
            "_view_name": "StyleView",
            "description_width": ""
          }
        },
        "ad98fb906e42468caad11706e4ea590d": {
          "model_module": "@jupyter-widgets/base",
          "model_name": "LayoutModel",
          "model_module_version": "1.2.0",
          "state": {
            "_model_module": "@jupyter-widgets/base",
            "_model_module_version": "1.2.0",
            "_model_name": "LayoutModel",
            "_view_count": null,
            "_view_module": "@jupyter-widgets/base",
            "_view_module_version": "1.2.0",
            "_view_name": "LayoutView",
            "align_content": null,
            "align_items": null,
            "align_self": null,
            "border": null,
            "bottom": null,
            "display": null,
            "flex": null,
            "flex_flow": null,
            "grid_area": null,
            "grid_auto_columns": null,
            "grid_auto_flow": null,
            "grid_auto_rows": null,
            "grid_column": null,
            "grid_gap": null,
            "grid_row": null,
            "grid_template_areas": null,
            "grid_template_columns": null,
            "grid_template_rows": null,
            "height": null,
            "justify_content": null,
            "justify_items": null,
            "left": null,
            "margin": null,
            "max_height": null,
            "max_width": null,
            "min_height": null,
            "min_width": null,
            "object_fit": null,
            "object_position": null,
            "order": null,
            "overflow": null,
            "overflow_x": null,
            "overflow_y": null,
            "padding": null,
            "right": null,
            "top": null,
            "visibility": null,
            "width": null
          }
        },
        "eea0866eff2b42f0ab9685e6ad42a6ed": {
          "model_module": "@jupyter-widgets/controls",
          "model_name": "ProgressStyleModel",
          "model_module_version": "1.5.0",
          "state": {
            "_model_module": "@jupyter-widgets/controls",
            "_model_module_version": "1.5.0",
            "_model_name": "ProgressStyleModel",
            "_view_count": null,
            "_view_module": "@jupyter-widgets/base",
            "_view_module_version": "1.2.0",
            "_view_name": "StyleView",
            "bar_color": null,
            "description_width": ""
          }
        },
        "fea48dd5bbb24f238419a7125c00e817": {
          "model_module": "@jupyter-widgets/base",
          "model_name": "LayoutModel",
          "model_module_version": "1.2.0",
          "state": {
            "_model_module": "@jupyter-widgets/base",
            "_model_module_version": "1.2.0",
            "_model_name": "LayoutModel",
            "_view_count": null,
            "_view_module": "@jupyter-widgets/base",
            "_view_module_version": "1.2.0",
            "_view_name": "LayoutView",
            "align_content": null,
            "align_items": null,
            "align_self": null,
            "border": null,
            "bottom": null,
            "display": null,
            "flex": null,
            "flex_flow": null,
            "grid_area": null,
            "grid_auto_columns": null,
            "grid_auto_flow": null,
            "grid_auto_rows": null,
            "grid_column": null,
            "grid_gap": null,
            "grid_row": null,
            "grid_template_areas": null,
            "grid_template_columns": null,
            "grid_template_rows": null,
            "height": null,
            "justify_content": null,
            "justify_items": null,
            "left": null,
            "margin": null,
            "max_height": null,
            "max_width": null,
            "min_height": null,
            "min_width": null,
            "object_fit": null,
            "object_position": null,
            "order": null,
            "overflow": null,
            "overflow_x": null,
            "overflow_y": null,
            "padding": null,
            "right": null,
            "top": null,
            "visibility": null,
            "width": null
          }
        },
        "f3be8b76108e436cb2e755e3106329e4": {
          "model_module": "@jupyter-widgets/controls",
          "model_name": "DescriptionStyleModel",
          "model_module_version": "1.5.0",
          "state": {
            "_model_module": "@jupyter-widgets/controls",
            "_model_module_version": "1.5.0",
            "_model_name": "DescriptionStyleModel",
            "_view_count": null,
            "_view_module": "@jupyter-widgets/base",
            "_view_module_version": "1.2.0",
            "_view_name": "StyleView",
            "description_width": ""
          }
        }
      }
    }
  },
  "cells": [
    {
      "cell_type": "code",
      "execution_count": null,
      "metadata": {
        "colab": {
          "base_uri": "https://localhost:8080/"
        },
        "id": "hsNadJLO_CPq",
        "outputId": "a5517feb-8983-4b07-8aba-b28e2ec8b4c2"
      },
      "outputs": [
        {
          "output_type": "stream",
          "name": "stdout",
          "text": [
            "2.4.1 cu121\n"
          ]
        }
      ],
      "source": [
        "import torch\n",
        "TORCH = torch.__version__.split('+')[0]\n",
        "CUDA = 'cu' + torch.version.cuda.replace('.','')\n",
        "print(TORCH, CUDA)\n",
        "\n",
        "import pickle\n",
        "import os"
      ]
    },
    {
      "cell_type": "code",
      "source": [
        "%%capture\n",
        "!pip install pyg_lib -f https://data.pyg.org/whl/torch-2.4.0+cu121.html\n",
        "!pip install torch-scatter     -f https://data.pyg.org/whl/torch-2.4.0+cu121.html\n",
        "!pip install torch-cluster -f https://data.pyg.org/whl/torch-2.4.0+cu121.html\n",
        "!pip install torch-spline-conv -f https://data.pyg.org/whl/torch-2.4.0+cu121.html\n",
        "!pip install torch-sparse -f https://data.pyg.org/whl/torch-2.4.0+cu121.html\n",
        "!pip install torch-geometric"
      ],
      "metadata": {
        "id": "d6npCCK-_JtD"
      },
      "execution_count": null,
      "outputs": []
    },
    {
      "cell_type": "code",
      "source": [
        "import torch_geometric\n",
        "import torch_geometric.nn as geom_nn\n",
        "import torch_geometric.data as geom_data\n",
        "from torch_geometric.loader import DataLoader\n",
        "from torch_geometric.data import InMemoryDataset\n",
        "from torch_geometric.data import Data\n",
        "\n",
        "import numpy as np\n",
        "import matplotlib.pyplot as plt\n",
        "import networkx as nx\n",
        "\n",
        "from scipy.linalg import fractional_matrix_power\n",
        "from scipy.spatial.distance import pdist\n",
        "from scipy.spatial.distance import squareform\n",
        "\n",
        "import matplotlib.pyplot as plt\n",
        "import matplotlib as matplotlib\n",
        "import matplotlib.cm as cm\n",
        "\n",
        "from tqdm import tqdm\n",
        "\n",
        "import math\n",
        "from numba import cuda\n",
        "import numpy as np\n",
        "import torch\n",
        "from torch_geometric.utils import (\n",
        "    to_networkx,\n",
        "    from_networkx,\n",
        "    to_dense_adj,\n",
        "    remove_self_loops,\n",
        "    to_undirected,\n",
        ")\n",
        "\n",
        "import torch\n",
        "import scipy.io as sio\n",
        "import torch.nn as nn"
      ],
      "metadata": {
        "id": "QG5QUEIe_M2L"
      },
      "execution_count": null,
      "outputs": []
    },
    {
      "cell_type": "code",
      "source": [
        "from google.colab import drive\n",
        "drive.mount('/content/drive')"
      ],
      "metadata": {
        "id": "v77ZZalQ_O5D"
      },
      "execution_count": null,
      "outputs": []
    },
    {
      "cell_type": "code",
      "source": [
        "torch.set_default_device('cuda')"
      ],
      "metadata": {
        "id": "r2teFz7nvWUt"
      },
      "execution_count": null,
      "outputs": []
    },
    {
      "cell_type": "markdown",
      "source": [
        "# Set up Functions"
      ],
      "metadata": {
        "id": "4atzWaGU_Rj1"
      }
    },
    {
      "cell_type": "code",
      "source": [
        "# Throughout this we are going to assume that data is of the form B x N x D\n",
        "# Where B is the batch size, N is the sequence length for the transformer\n",
        "# this the number of data points. Finally D is the embedding dimension.\n",
        "class SimpleAttention(nn.Module):\n",
        "  # Initialize the parameter\n",
        "  def __init__(self, hidden_dim):\n",
        "    super(SimpleAttention, self).__init__()\n",
        "    self.linear = nn.Linear(hidden_dim, hidden_dim)\n",
        "    self.WQ = nn.Linear(hidden_dim, hidden_dim, bias = False)\n",
        "    self.WK = nn.Linear(hidden_dim, hidden_dim, bias = False)\n",
        "    self.WV = nn.Linear(hidden_dim, hidden_dim, bias = False)\n",
        "    self.skip = nn.Linear(hidden_dim, hidden_dim)\n",
        "    self.attention = nn.MultiheadAttention(hidden_dim, 1, batch_first=True)\n",
        "\n",
        "  # Forward pass\n",
        "  def forward(self, input):\n",
        "    Q = self.WQ(input)\n",
        "    K = self.WK(input)\n",
        "    V = self.WV(input)\n",
        "    output_attention,_ = self.attention(Q,K,V)\n",
        "    output_linear = self.linear(output_attention.relu()).relu()\n",
        "    return output_linear + self.skip(input)\n",
        "\n",
        "class SimpleTransformer(nn.Module):\n",
        "# Initialize the parameter\n",
        "  def __init__(self, input_dim, hidden_dim, out_dim, num_layers):\n",
        "    super(SimpleTransformer, self).__init__()\n",
        "    self.embed = nn.Linear(input_dim, hidden_dim)\n",
        "    self.predictor = nn.Linear(hidden_dim, out_dim)\n",
        "    self.AttentionLayers = []\n",
        "    for i in range(num_layers):\n",
        "      self.AttentionLayers.append(SimpleAttention(hidden_dim))\n",
        "\n",
        "    self.AttentionLayers = nn.ModuleList(self.AttentionLayers)\n",
        "    self.num_layers = num_layers\n",
        "\n",
        "  # Forward pass\n",
        "  def forward(self, z):\n",
        "    z = self.embed(z)\n",
        "    for i in range(self.num_layers):\n",
        "      z = self.AttentionLayers[i](z)\n",
        "    return self.predictor(z)"
      ],
      "metadata": {
        "id": "gIEfIkbZBIsn"
      },
      "execution_count": null,
      "outputs": []
    },
    {
      "cell_type": "code",
      "source": [
        "def initialize_network(d,m):\n",
        "  return torch.nn.Sequential(torch.nn.Linear(d,m, bias = False),\n",
        "                             torch.nn.Sigmoid(),\n",
        "                             torch.nn.Linear(m,1, bias = False))\n",
        "\n",
        "def create_training_data(teacher_model, d, n):\n",
        "  X = torch.randn(n,d)\n",
        "  return X, teacher_model(X)\n",
        "\n",
        "def train(model, X, y, num_iterations, d, m, Xtst, ytst):\n",
        "  optimizer = torch.optim.SGD(model.parameters())\n",
        "  thetas = torch.zeros(num_iterations+1, d+1, m)\n",
        "  with torch.no_grad():\n",
        "    thetas[0,:d,:] = list(model.parameters())[0].T.detach()\n",
        "    thetas[0,d,:] = list(model.parameters())[1].detach()\n",
        "  losses = torch.zeros(num_iterations)\n",
        "  losses_tst = torch.zeros(num_iterations)\n",
        "  for i in range(num_iterations):\n",
        "    optimizer.zero_grad()\n",
        "    y_pred = model(X)\n",
        "    loss = (y_pred - y).square().mean()\n",
        "    loss.backward()\n",
        "    optimizer.step()\n",
        "    optimizer.zero_grad()\n",
        "    with torch.no_grad():\n",
        "      thetas[i+1,:d,:] = list(model.parameters())[0].T.detach()\n",
        "      thetas[i+1,d,:] = list(model.parameters())[1].detach()\n",
        "      losses[i] = loss.detach()\n",
        "      losses_tst[i] = (ytst - model(Xtst)).square().mean().cpu().detach()\n",
        "\n",
        "  return thetas, losses, losses_tst\n",
        "\n",
        "def train_2(model, X, y, num_iterations, d, m):\n",
        "  optimizer = torch.optim.SGD(model.parameters())\n",
        "  thetas = torch.zeros(num_iterations+1, d+1, m)\n",
        "  with torch.no_grad():\n",
        "    thetas[0,:d,:] = list(model.parameters())[0].T.detach()\n",
        "    thetas[0,d,:] = list(model.parameters())[1].detach()\n",
        "  losses = torch.zeros(num_iterations)\n",
        "  for i in range(num_iterations):\n",
        "    optimizer.zero_grad()\n",
        "    y_pred = model(X)\n",
        "    loss = (y_pred - y).square().mean()\n",
        "    loss.backward()\n",
        "    optimizer.step()\n",
        "    optimizer.zero_grad()\n",
        "    with torch.no_grad():\n",
        "      thetas[i+1,:d,:] = list(model.parameters())[0].T.detach()\n",
        "      thetas[i+1,d,:] = list(model.parameters())[1].detach()\n",
        "      losses[i] = loss.detach()\n",
        "\n",
        "  return thetas, losses\n",
        "\n",
        "def train_with_transformer(model, transformer_model, num_iterations, d, m, X, y, Xtst, ytst):\n",
        "  thetas = torch.zeros(num_iterations+1, d+1, m)\n",
        "  theta = torch.zeros( d+1, m)\n",
        "\n",
        "  with torch.no_grad():\n",
        "    theta[:d,:] = list(model.parameters())[0].T.detach()\n",
        "    theta[d,:] = list(model.parameters())[1].detach()\n",
        "\n",
        "  thetas[0,:,:] = theta\n",
        "\n",
        "  losses = torch.zeros(num_iterations)\n",
        "  losses_tst = torch.zeros(num_iterations)\n",
        "\n",
        "  for i in range(num_iterations):\n",
        "    next_theta = transformer_model(theta.unsqueeze_(0).transpose(1,2)).transpose(1,2)[0,:,:]\n",
        "    model[0].weight = torch.nn.Parameter(next_theta[:d,:].T)\n",
        "    model[2].weight = torch.nn.Parameter(next_theta[d,:])\n",
        "    theta = next_theta\n",
        "    thetas[i+1,:,:] = theta\n",
        "\n",
        "    with torch.no_grad():\n",
        "      losses[i] = (y - model(X)).square().mean()\n",
        "      losses_tst[i] = (ytst - model(Xtst)).square().mean().cpu().detach()\n",
        "\n",
        "  return thetas, losses, losses_tst"
      ],
      "metadata": {
        "id": "2bbsQUEr_Vmm"
      },
      "execution_count": null,
      "outputs": []
    },
    {
      "cell_type": "markdown",
      "source": [
        "# Creating Training Data"
      ],
      "metadata": {
        "id": "O4YAdQJLAl5N"
      }
    },
    {
      "cell_type": "code",
      "source": [
        "d = 10\n",
        "m = 100\n",
        "n = 1000\n",
        "\n",
        "teacher_model = initialize_network(d,m)\n",
        "teacher_model.eval()\n",
        "with torch.no_grad():\n",
        "  Xtrn, ytrn = create_training_data(teacher_model, d, n)"
      ],
      "metadata": {
        "id": "bgtDjZGgAjuw"
      },
      "execution_count": null,
      "outputs": []
    },
    {
      "cell_type": "code",
      "source": [
        "from tqdm.auto import tqdm\n",
        "\n",
        "Xtrn = Xtrn.to('cuda')\n",
        "ytrn = ytrn.to('cuda')\n",
        "\n",
        "def create_mean_field_training_data(teacher_model, d, m, T, Xtrn, ytrn):\n",
        "  thetas, _ = train_2(initialize_network(d,m), Xtrn, ytrn, T, d, m)\n",
        "  thetas_X = thetas[:T,:,:]\n",
        "  thetas_Y = thetas[1:,:,:]\n",
        "  print(thetas.shape)\n",
        "  for i in tqdm(range(1, 50)):\n",
        "    thetas, _ = train_2(initialize_network(d,m), Xtrn, ytrn, T, d, m)\n",
        "    thetas_X = torch.cat((thetas_X, thetas[:T,:,:]), dim = 0)\n",
        "    thetas_Y = torch.cat((thetas_Y, thetas[1:,:,:]), dim = 0)\n",
        "  return thetas_X, thetas_Y"
      ],
      "metadata": {
        "id": "mDIDQjp_ApXS"
      },
      "execution_count": null,
      "outputs": []
    },
    {
      "cell_type": "code",
      "source": [
        "thetas_X, thetas_Y = create_mean_field_training_data(teacher_model, d, m, 500, Xtrn, ytrn)"
      ],
      "metadata": {
        "id": "phvEWelgAsSc",
        "colab": {
          "base_uri": "https://localhost:8080/",
          "height": 66,
          "referenced_widgets": [
            "2d8840f2f09a4abfaa92f0d296e3fd12",
            "a263879c9ef74e70823cff896bad6377",
            "e38e43be5d274bda86a16fe949029dff",
            "e2eca5f839664b0baa8ee86d11313ef0",
            "cc56258c20224e77a17090525d79d3d0",
            "5c570e2bc2d1422595a3231f7b808b35",
            "9c4c85e990264a44911c134bbf77c94c",
            "d1c3084ec69f43ae81359fa6fa190452",
            "9499f4beae5249469b92b8df0f13124a",
            "3ad4cca86c4047839597849cd5124c25",
            "5ef1130f15ec4873823fe53811783093"
          ]
        },
        "outputId": "4ca78e83-3e02-4ec3-9d43-eff619968800"
      },
      "execution_count": null,
      "outputs": [
        {
          "output_type": "stream",
          "name": "stdout",
          "text": [
            "torch.Size([501, 11, 100])\n"
          ]
        },
        {
          "output_type": "display_data",
          "data": {
            "text/plain": [
              "  0%|          | 0/49 [00:00<?, ?it/s]"
            ],
            "application/vnd.jupyter.widget-view+json": {
              "version_major": 2,
              "version_minor": 0,
              "model_id": "2d8840f2f09a4abfaa92f0d296e3fd12"
            }
          },
          "metadata": {}
        }
      ]
    },
    {
      "cell_type": "code",
      "source": [
        "thetas_X.shape, thetas_Y.shape"
      ],
      "metadata": {
        "id": "WrgfHqSyzL9G",
        "colab": {
          "base_uri": "https://localhost:8080/"
        },
        "outputId": "276ff867-2a1a-40bd-83b3-be5281745751"
      },
      "execution_count": null,
      "outputs": [
        {
          "output_type": "execute_result",
          "data": {
            "text/plain": [
              "(torch.Size([25000, 11, 100]), torch.Size([25000, 11, 100]))"
            ]
          },
          "metadata": {},
          "execution_count": 142
        }
      ]
    },
    {
      "cell_type": "code",
      "source": [
        "p = torch.randperm(25000)\n",
        "# p, thetas_X, thetas_Y, teacher_model, Xtrn, ytrn = torch.load(\"2-layer-mean-field-data.pt\")\n",
        "\n",
        "thetas_X_trn = thetas_X[p[:20000],:,:].cpu()\n",
        "thetas_Y_trn = thetas_Y[p[:20000],:,:].cpu()\n",
        "\n",
        "thetas_X_tst = thetas_X[p[20000:],:,:].cpu()\n",
        "thetas_Y_tst = thetas_Y[p[20000:],:,:].cpu()"
      ],
      "metadata": {
        "id": "uh_LnUcoAuWp"
      },
      "execution_count": null,
      "outputs": []
    },
    {
      "cell_type": "code",
      "source": [
        "thetas_X_trn.device"
      ],
      "metadata": {
        "colab": {
          "base_uri": "https://localhost:8080/"
        },
        "id": "qjXN1msQzs3k",
        "outputId": "b50adc44-aa7e-4981-8ea3-18783913bbf1"
      },
      "execution_count": null,
      "outputs": [
        {
          "output_type": "execute_result",
          "data": {
            "text/plain": [
              "device(type='cpu')"
            ]
          },
          "metadata": {},
          "execution_count": 148
        }
      ]
    },
    {
      "cell_type": "markdown",
      "source": [
        "# Train the Transformer"
      ],
      "metadata": {
        "id": "Wyyq3oDlAzV6"
      }
    },
    {
      "cell_type": "code",
      "source": [
        "torch.set_default_device('cpu')\n",
        "train_dataset = torch.utils.data.TensorDataset(thetas_X_trn.transpose(1,2), thetas_Y_trn.transpose(1,2))\n",
        "train_loader = torch.utils.data.DataLoader(train_dataset, batch_size = 1000, shuffle = True)"
      ],
      "metadata": {
        "id": "6Wjo391GAxKH"
      },
      "execution_count": null,
      "outputs": []
    },
    {
      "cell_type": "code",
      "source": [
        "model_transformer = SimpleTransformer(11,512,11,5).to('cuda')\n",
        "\n",
        "epochs = 250\n",
        "\n",
        "optimizer_transformer = torch.optim.Adam(model_transformer.parameters(), lr = 2e-4)\n",
        "scheduler_transformer = torch.optim.lr_scheduler.CosineAnnealingLR(optimizer_transformer, epochs)\n",
        "\n",
        "for i in tqdm(range(epochs)):\n",
        "  for data in train_loader:\n",
        "    optimizer_transformer.zero_grad()\n",
        "    X = data[0].to('cuda')\n",
        "    Y = data[1].to('cuda')\n",
        "    Y_pred = model_transformer(X)\n",
        "    loss = torch.nn.functional.mse_loss(Y_pred, Y)\n",
        "    loss.backward()\n",
        "    optimizer_transformer.step()\n",
        "  scheduler_transformer.step()\n",
        "  with torch.no_grad():\n",
        "    print(i, \" \", loss)"
      ],
      "metadata": {
        "id": "jzhal36_A1Qj"
      },
      "execution_count": null,
      "outputs": []
    },
    {
      "cell_type": "code",
      "source": [
        "torch.set_default_device('cuda')"
      ],
      "metadata": {
        "id": "moab-aUK-jaH"
      },
      "execution_count": null,
      "outputs": []
    },
    {
      "cell_type": "markdown",
      "source": [
        "# Evaluating Model"
      ],
      "metadata": {
        "id": "TMamdmWXA9Dx"
      }
    },
    {
      "cell_type": "code",
      "source": [
        "import copy\n",
        "\n",
        "d = 10\n",
        "m = 100\n",
        "n = 500\n",
        "num_iterations = 501\n",
        "\n",
        "p, thetas_X, thetas_Y, teacher_model, Xtrn, ytrn = torch.load(\"2-layer-mean-field-data.pt\")\n",
        "model_transformer = torch.load(\"mean-field-transformer.pt\")\n",
        "\n",
        "teacher_model.eval().to('cuda')\n",
        "\n",
        "with torch.no_grad():\n",
        "  Xtst, ytst = create_training_data(teacher_model, d, n)\n",
        "\n",
        "# thetas_X_trn = thetas_X[p[:20000],:,:]\n",
        "# thetas_Y_trn = thetas_Y[p[:20000],:,:]\n",
        "\n",
        "# thetas_X_tst = thetas_X[p[20000:],:,:]\n",
        "# thetas_Y_tst = thetas_Y[p[20000:],:,:]\n",
        "\n",
        "model = initialize_network(d,m)\n",
        "\n",
        "T = 1\n",
        "\n",
        "losses_sgd = torch.zeros(T,num_iterations)\n",
        "losses_tst_sgd = torch.zeros(T,num_iterations)\n",
        "\n",
        "losses_transformer = torch.zeros(T,num_iterations)\n",
        "losses_tst_transformer = torch.zeros(T,num_iterations)\n",
        "\n",
        "theta_diff = torch.zeros(T,num_iterations).cpu()\n",
        "\n",
        "model_transformer.eval()\n",
        "\n",
        "Xtrn = Xtrn.to('cuda')\n",
        "ytrn = ytrn.to('cuda')\n",
        "Xtst = Xtst.to('cuda')\n",
        "ytst = ytst.to('cuda')\n",
        "\n",
        "\n",
        "for i in tqdm(range(T)):\n",
        "  model = initialize_network(d,m)\n",
        "\n",
        "  thetas_sgd, losses_sgd[i,:], losses_tst_sgd[i,:] = train(copy.deepcopy(model), Xtrn, ytrn, num_iterations, d, m, Xtst, ytst)\n",
        "  thetas_transformer, losses_transformer[i,:], losses_tst_transformer[i,:] = train_with_transformer(copy.deepcopy(model), model_transformer, num_iterations, d, m, Xtrn, ytrn, Xtst, ytst)\n",
        "\n",
        "  theta_diff[i,:] = (thetas_sgd - thetas_transformer).square().mean(dim = (1,2))[1:].cpu().detach()"
      ],
      "metadata": {
        "id": "_zlxIdnUA-cq",
        "colab": {
          "base_uri": "https://localhost:8080/",
          "height": 137,
          "referenced_widgets": [
            "d686a0763cbc4fbca52744936e75d9a9",
            "0a19c3283c354570954fc7ce58e8cbfb",
            "391bf9c89ee544fbaa79327426ee9afe",
            "a0c45a1014294f84962a702ee9fe8371",
            "55299b35549f466dbadc19645ad12658",
            "6226ca77b5c44493b38c74aa2dc89830",
            "6c7f9837f5294ebcb942935e2a011a32",
            "ad98fb906e42468caad11706e4ea590d",
            "eea0866eff2b42f0ab9685e6ad42a6ed",
            "fea48dd5bbb24f238419a7125c00e817",
            "f3be8b76108e436cb2e755e3106329e4"
          ]
        },
        "outputId": "b788652c-4163-4638-f0eb-57e45530e6da"
      },
      "execution_count": null,
      "outputs": [
        {
          "output_type": "stream",
          "name": "stderr",
          "text": [
            "<ipython-input-16-c13efd966913>:8: FutureWarning: You are using `torch.load` with `weights_only=False` (the current default value), which uses the default pickle module implicitly. It is possible to construct malicious pickle data which will execute arbitrary code during unpickling (See https://github.com/pytorch/pytorch/blob/main/SECURITY.md#untrusted-models for more details). In a future release, the default value for `weights_only` will be flipped to `True`. This limits the functions that could be executed during unpickling. Arbitrary objects will no longer be allowed to be loaded via this mode unless they are explicitly allowlisted by the user via `torch.serialization.add_safe_globals`. We recommend you start setting `weights_only=True` for any use case where you don't have full control of the loaded file. Please open an issue on GitHub for any issues related to this experimental feature.\n",
            "  p, thetas_X, thetas_Y, teacher_model, Xtrn, ytrn = torch.load(\"2-layer-mean-field-data.pt\")\n",
            "<ipython-input-16-c13efd966913>:9: FutureWarning: You are using `torch.load` with `weights_only=False` (the current default value), which uses the default pickle module implicitly. It is possible to construct malicious pickle data which will execute arbitrary code during unpickling (See https://github.com/pytorch/pytorch/blob/main/SECURITY.md#untrusted-models for more details). In a future release, the default value for `weights_only` will be flipped to `True`. This limits the functions that could be executed during unpickling. Arbitrary objects will no longer be allowed to be loaded via this mode unless they are explicitly allowlisted by the user via `torch.serialization.add_safe_globals`. We recommend you start setting `weights_only=True` for any use case where you don't have full control of the loaded file. Please open an issue on GitHub for any issues related to this experimental feature.\n",
            "  model_transformer = torch.load(\"mean-field-transformer.pt\")\n"
          ]
        },
        {
          "output_type": "display_data",
          "data": {
            "text/plain": [
              "  0%|          | 0/1 [00:00<?, ?it/s]"
            ],
            "application/vnd.jupyter.widget-view+json": {
              "version_major": 2,
              "version_minor": 0,
              "model_id": "d686a0763cbc4fbca52744936e75d9a9"
            }
          },
          "metadata": {}
        }
      ]
    },
    {
      "cell_type": "code",
      "source": [
        "import numpy as np\n",
        "import matplotlib.pyplot as plt\n",
        "import matplotlib.animation as animation\n",
        "from matplotlib.colors import TwoSlopeNorm\n",
        "\n",
        "def update_weights(theta, frame, mtype):\n",
        "    if mtype == \"transformer\":\n",
        "        return thetas_transformer[frame+1, :].reshape(d+1,m).detach().cpu()\n",
        "    else:\n",
        "        return thetas_sgd[frame+1, :].reshape(d+1,m).detach().cpu()\n",
        "\n",
        "def create_heatmap(ax, data, title, vmin, vmax):\n",
        "    norm = TwoSlopeNorm(vmin=vmin, vcenter=0, vmax=vmax)\n",
        "    im = ax.imshow(data, cmap='coolwarm', norm=norm, aspect='auto')\n",
        "    ax.set_title(title)\n",
        "    ax.axis('off')\n",
        "    return im\n",
        "\n",
        "# Set up the figure and axes\n",
        "fig, ((ax1, ax2), (ax3, ax4)) = plt.subplots(2, 2, figsize=(15, 12))\n",
        "fig.suptitle('Neural Network Weights Comparison')\n",
        "\n",
        "# Initialize weights for two networks\n",
        "network1_weights = thetas_sgd[0,:].reshape(d+1,m).detach().cpu()\n",
        "network2_weights = thetas_transformer[0,:].reshape(d+1,m).detach().cpu()\n",
        "\n",
        "# Initialize change trackers\n",
        "network1_total_change = torch.zeros_like(network1_weights)\n",
        "network2_total_change = torch.zeros_like(network2_weights)\n",
        "\n",
        "# Create initial heatmaps\n",
        "im1 = create_heatmap(ax1, network1_weights, 'Gradient Descent - Current Weights', -0.5, 0.5)\n",
        "im2 = create_heatmap(ax2, network2_weights, 'Transformer - Current Weights', -0.5, 0.5)\n",
        "im3 = create_heatmap(ax3, network1_total_change, 'Gradient Descent - Total Change', -0.05, 0.05)\n",
        "im4 = create_heatmap(ax4, network2_total_change, 'Transformer - Total Change', -0.05, 0.05)\n",
        "\n",
        "# Add colorbars\n",
        "cbar1 = fig.colorbar(im1, ax=[ax1, ax2], orientation='horizontal', pad=0.1)\n",
        "cbar1.set_label('Weight Value')\n",
        "cbar2 = fig.colorbar(im3, ax=[ax3, ax4], orientation='horizontal', pad=0.1)\n",
        "cbar2.set_label('Cumulative Change in Weight')\n",
        "\n",
        "# Animation update function\n",
        "def update(frame):\n",
        "    global network1_weights, network2_weights, network1_total_change, network2_total_change\n",
        "\n",
        "    # Store previous weights\n",
        "    prev_network1_weights = torch.clone(network1_weights)\n",
        "    prev_network2_weights = torch.clone(network2_weights)\n",
        "\n",
        "    # Update weights\n",
        "    network1_weights = update_weights(network1_weights, frame, \"sgd\")\n",
        "    network2_weights = update_weights(network2_weights, frame, \"transformer\")\n",
        "\n",
        "    # Calculate and accumulate changes\n",
        "    network1_change = network1_weights - prev_network1_weights\n",
        "    network2_change = network2_weights - prev_network2_weights\n",
        "    network1_total_change += network1_change\n",
        "    network2_total_change += network2_change\n",
        "\n",
        "    # Update heatmaps\n",
        "    im1.set_array(network1_weights)\n",
        "    im2.set_array(network2_weights)\n",
        "    im3.set_array(network1_total_change)\n",
        "    im4.set_array(network2_total_change)\n",
        "\n",
        "    # Update title with current epoch\n",
        "    fig.suptitle(f'Neural Network Weights Comparison - Epoch {frame}')\n",
        "\n",
        "    # Return all artists that were modified\n",
        "    return im1, im2, im3, im4\n",
        "\n",
        "# Create the animation\n",
        "anim = animation.FuncAnimation(fig, update, frames=500, interval=200, blit=False)\n",
        "\n",
        "# Save the animation as a video file\n",
        "anim.save('neural_network_weights_comparison_enhanced.mp4', writer='ffmpeg', fps=20)\n",
        "\n",
        "plt.close(fig)\n",
        "print(\"Video saved as 'neural_network_weights_comparison_enhanced.mp4'\")"
      ],
      "metadata": {
        "colab": {
          "base_uri": "https://localhost:8080/",
          "height": 1000
        },
        "id": "bhzsSg1kG8fA",
        "outputId": "32aca8fb-7a9a-468c-9905-e1ca1d56e34b"
      },
      "execution_count": null,
      "outputs": [
        {
          "output_type": "error",
          "ename": "NameError",
          "evalue": "name 'thetas_sgd' is not defined",
          "traceback": [
            "\u001b[0;31m---------------------------------------------------------------------------\u001b[0m",
            "\u001b[0;31mNameError\u001b[0m                                 Traceback (most recent call last)",
            "\u001b[0;32m<ipython-input-2-bea234938bfc>\u001b[0m in \u001b[0;36m<cell line: 24>\u001b[0;34m()\u001b[0m\n\u001b[1;32m     22\u001b[0m \u001b[0;34m\u001b[0m\u001b[0m\n\u001b[1;32m     23\u001b[0m \u001b[0;31m# Initialize weights for two networks\u001b[0m\u001b[0;34m\u001b[0m\u001b[0;34m\u001b[0m\u001b[0m\n\u001b[0;32m---> 24\u001b[0;31m \u001b[0mnetwork1_weights\u001b[0m \u001b[0;34m=\u001b[0m \u001b[0mthetas_sgd\u001b[0m\u001b[0;34m[\u001b[0m\u001b[0;36m0\u001b[0m\u001b[0;34m,\u001b[0m\u001b[0;34m:\u001b[0m\u001b[0;34m]\u001b[0m\u001b[0;34m.\u001b[0m\u001b[0mreshape\u001b[0m\u001b[0;34m(\u001b[0m\u001b[0md\u001b[0m\u001b[0;34m+\u001b[0m\u001b[0;36m1\u001b[0m\u001b[0;34m,\u001b[0m\u001b[0mm\u001b[0m\u001b[0;34m)\u001b[0m\u001b[0;34m.\u001b[0m\u001b[0mdetach\u001b[0m\u001b[0;34m(\u001b[0m\u001b[0;34m)\u001b[0m\u001b[0;34m.\u001b[0m\u001b[0mcpu\u001b[0m\u001b[0;34m(\u001b[0m\u001b[0;34m)\u001b[0m\u001b[0;34m\u001b[0m\u001b[0;34m\u001b[0m\u001b[0m\n\u001b[0m\u001b[1;32m     25\u001b[0m \u001b[0mnetwork2_weights\u001b[0m \u001b[0;34m=\u001b[0m \u001b[0mthetas_transformer\u001b[0m\u001b[0;34m[\u001b[0m\u001b[0;36m0\u001b[0m\u001b[0;34m,\u001b[0m\u001b[0;34m:\u001b[0m\u001b[0;34m]\u001b[0m\u001b[0;34m.\u001b[0m\u001b[0mreshape\u001b[0m\u001b[0;34m(\u001b[0m\u001b[0md\u001b[0m\u001b[0;34m+\u001b[0m\u001b[0;36m1\u001b[0m\u001b[0;34m,\u001b[0m\u001b[0mm\u001b[0m\u001b[0;34m)\u001b[0m\u001b[0;34m.\u001b[0m\u001b[0mdetach\u001b[0m\u001b[0;34m(\u001b[0m\u001b[0;34m)\u001b[0m\u001b[0;34m.\u001b[0m\u001b[0mcpu\u001b[0m\u001b[0;34m(\u001b[0m\u001b[0;34m)\u001b[0m\u001b[0;34m\u001b[0m\u001b[0;34m\u001b[0m\u001b[0m\n\u001b[1;32m     26\u001b[0m \u001b[0;34m\u001b[0m\u001b[0m\n",
            "\u001b[0;31mNameError\u001b[0m: name 'thetas_sgd' is not defined"
          ]
        },
        {
          "output_type": "display_data",
          "data": {
            "text/plain": [
              "<Figure size 1500x1200 with 4 Axes>"
            ],
            "image/png": "[encoded data removed]"
          },
          "metadata": {}
        }
      ]
    },
    {
      "cell_type": "code",
      "source": [
        "losses_sgd = losses_sgd.cpu().detach()\n",
        "losses_tst_sgd = losses_tst_sgd.cpu().detach()\n",
        "losses_transformer = losses_transformer.cpu().detach()\n",
        "losses_tst_transformer = losses_tst_transformer.cpu().detach()\n",
        "theta_diff = theta_diff.cpu().detach()"
      ],
      "metadata": {
        "id": "2CAKqgKCx3hY"
      },
      "execution_count": null,
      "outputs": []
    },
    {
      "cell_type": "markdown",
      "source": [
        "# Plotting"
      ],
      "metadata": {
        "id": "w_WTURRWA4dQ"
      }
    },
    {
      "cell_type": "code",
      "source": [
        "fig, ax = plt.subplots(figsize = (7.5,6))\n",
        "\n",
        "plt.plot(losses_tst_sgd.quantile(0.5, dim = 0), label = \"SGD\", linewidth = 3)\n",
        "plt.plot(losses_tst_transformer.quantile(0.5, dim = 0), label = \"Transformer\", linewidth = 3)\n",
        "\n",
        "plt.fill_between(range(num_iterations), losses_tst_sgd.quantile(0.25, dim = 0), losses_tst_sgd.quantile(0.75, dim = 0), alpha = 0.5)\n",
        "plt.fill_between(range(num_iterations), losses_tst_transformer.quantile(0.25, dim = 0), losses_tst_transformer.quantile(0.75, dim = 0), alpha = 0.5)\n",
        "\n",
        "plt.xlabel(\"Iteration\", fontsize = 24)\n",
        "plt.ylabel(\"Test Loss\", fontsize = 24)\n",
        "plt.legend(fontsize = 24)\n",
        "# plt.ticklabel_format(style = 'sci', axis = 'y', scilimits = (0,0))\n",
        "plt.tick_params(axis='both', which='major', labelsize=16)\n",
        "# plt.yscale(\"log\")\n",
        "plt.savefig(\"mean-field-test-loss.pdf\", bbox_inches = \"tight\", dpi = 100)"
      ],
      "metadata": {
        "id": "ciciRv0pAXaD",
        "colab": {
          "base_uri": "https://localhost:8080/",
          "height": 567
        },
        "outputId": "3caabe46-ed45-4993-be72-d71f8c9d927b"
      },
      "execution_count": null,
      "outputs": [
        {
          "output_type": "display_data",
          "data": {
            "text/plain": [
              "<Figure size 750x600 with 1 Axes>"
            ],
            "image/png": "[encoded data removed]"
          },
          "metadata": {}
        }
      ]
    },
    {
      "cell_type": "code",
      "source": [
        "fig, ax = plt.subplots(figsize = (7.5,6))\n",
        "\n",
        "plt.plot(losses_sgd.quantile(0.5, dim = 0), label = \"SGD\", linewidth = 3)\n",
        "plt.plot(losses_transformer.quantile(0.5, dim = 0), label = \"Transformer\", linewidth = 3)\n",
        "\n",
        "plt.fill_between(range(num_iterations), losses_sgd.quantile(0.25, dim = 0), losses_sgd.quantile(0.75, dim = 0), alpha = 0.5)\n",
        "plt.fill_between(range(num_iterations), losses_transformer.quantile(0.25, dim = 0), losses_transformer.quantile(0.75, dim = 0), alpha = 0.5)\n",
        "\n",
        "plt.xlabel(\"Iteration\", fontsize = 24)\n",
        "plt.ylabel(\"Train Loss\", fontsize = 24)\n",
        "plt.legend(fontsize = 24)\n",
        "# plt.ticklabel_format(style = 'sci', axis = 'y', scilimits = (0,0))\n",
        "plt.tick_params(axis='both', which='major', labelsize=16)\n",
        "# plt.yscale(\"log\")\n",
        "plt.savefig(\"mean-field-training-loss.pdf\", bbox_inches = \"tight\", dpi = 100)"
      ],
      "metadata": {
        "id": "cZ0gh4FsAXWm",
        "colab": {
          "base_uri": "https://localhost:8080/",
          "height": 567
        },
        "outputId": "e8e597c6-c3b7-48aa-8730-cc384a4899a3"
      },
      "execution_count": null,
      "outputs": [
        {
          "output_type": "display_data",
          "data": {
            "text/plain": [
              "<Figure size 750x600 with 1 Axes>"
            ],
            "image/png": "[encoded data removed]"
          },
          "metadata": {}
        }
      ]
    },
    {
      "cell_type": "code",
      "source": [
        "fig, ax = plt.subplots(figsize = (7.5,6))\n",
        "\n",
        "plt.plot(theta_diff.quantile(0.5, dim = 0), linewidth = 3)\n",
        "plt.fill_between(range(num_iterations), theta_diff.quantile(0.25, dim = 0), theta_diff.quantile(0.75, dim = 0), alpha = 0.5)\n",
        "\n",
        "plt.xlabel(\"Iteration\", fontsize = 24)\n",
        "plt.ylabel(r\"$\\|\\theta_{SGD} - \\theta_{T}\\|^2$\", fontsize = 24)\n",
        "\n",
        "plt.legend(fontsize = 24)\n",
        "plt.ticklabel_format(style = 'sci', axis = 'y', scilimits = (0,0))\n",
        "plt.tick_params(axis='both', which='major', labelsize=16)\n",
        "\n",
        "plt.savefig(\"mean-field-thetas.pdf\", bbox_inches = \"tight\", dpi = 100)"
      ],
      "metadata": {
        "id": "5_78ymMuAXTQ",
        "colab": {
          "base_uri": "https://localhost:8080/",
          "height": 619
        },
        "outputId": "857fd0b9-de2e-4c4a-ffbb-1dcdd8b548e6"
      },
      "execution_count": null,
      "outputs": [
        {
          "output_type": "stream",
          "name": "stderr",
          "text": [
            "WARNING:matplotlib.legend:No artists with labels found to put in legend.  Note that artists whose label start with an underscore are ignored when legend() is called with no argument.\n"
          ]
        },
        {
          "output_type": "display_data",
          "data": {
            "text/plain": [
              "<Figure size 750x600 with 1 Axes>"
            ],
            "image/png": "[encoded data removed]"
          },
          "metadata": {}
        }
      ]
    },
    {
      "cell_type": "code",
      "source": [],
      "metadata": {
        "id": "mqRNlyfwAXPr"
      },
      "execution_count": null,
      "outputs": []
    },
    {
      "cell_type": "code",
      "source": [],
      "metadata": {
        "id": "HhKOYHr6AXKk"
      },
      "execution_count": null,
      "outputs": []
    }
  ]
}