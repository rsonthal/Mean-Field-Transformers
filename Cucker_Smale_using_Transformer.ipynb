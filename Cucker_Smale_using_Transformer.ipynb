{
  "cells": [
    {
      "cell_type": "code",
      "execution_count": null,
      "metadata": {
        "colab": {
          "base_uri": "https://localhost:8080/"
        },
        "id": "hsNadJLO_CPq",
        "outputId": "3ddf3091-5e63-4953-de11-8a0d3cdd6b9a"
      },
      "outputs": [
        {
          "name": "stdout",
          "output_type": "stream",
          "text": [
            "2.5.1 cu121\n"
          ]
        }
      ],
      "source": [
        "import torch\n",
        "TORCH = torch.__version__.split('+')[0]\n",
        "CUDA = 'cu' + torch.version.cuda.replace('.','')\n",
        "print(TORCH, CUDA)\n",
        "\n",
        "import pickle\n",
        "import os"
      ]
    },
    {
      "cell_type": "code",
      "execution_count": null,
      "metadata": {
        "id": "d6npCCK-_JtD"
      },
      "outputs": [],
      "source": [
        "%%capture\n",
        "!pip install pyg_lib -f https://data.pyg.org/whl/torch-2.5.0+cu121.html\n",
        "!pip install torch-scatter     -f https://data.pyg.org/whl/torch-2.5.0+cu121.html\n",
        "!pip install torch-cluster -f https://data.pyg.org/whl/torch-2.5.0+cu121.html\n",
        "!pip install torch-spline-conv -f https://data.pyg.org/whl/torch-2.5.0+cu121.html\n",
        "!pip install torch-sparse -f https://data.pyg.org/whl/torch-2.5.0+cu121.html\n",
        "!pip install torch-geometric"
      ]
    },
    {
      "cell_type": "code",
      "execution_count": null,
      "metadata": {
        "id": "QG5QUEIe_M2L"
      },
      "outputs": [],
      "source": [
        "import torch_geometric\n",
        "import torch_geometric.nn as geom_nn\n",
        "import torch_geometric.data as geom_data\n",
        "from torch_geometric.loader import DataLoader\n",
        "from torch_geometric.data import InMemoryDataset\n",
        "from torch_geometric.data import Data\n",
        "\n",
        "import numpy as np\n",
        "import matplotlib.pyplot as plt\n",
        "import networkx as nx\n",
        "\n",
        "from scipy.linalg import fractional_matrix_power\n",
        "from scipy.spatial.distance import pdist\n",
        "from scipy.spatial.distance import squareform\n",
        "\n",
        "import matplotlib.pyplot as plt\n",
        "import matplotlib as matplotlib\n",
        "import matplotlib.cm as cm\n",
        "\n",
        "from tqdm import tqdm\n",
        "\n",
        "import math\n",
        "from numba import cuda\n",
        "import numpy as np\n",
        "import torch\n",
        "from torch_geometric.utils import (\n",
        "    to_networkx,\n",
        "    from_networkx,\n",
        "    to_dense_adj,\n",
        "    remove_self_loops,\n",
        "    to_undirected,\n",
        ")"
      ]
    },
    {
      "cell_type": "code",
      "execution_count": null,
      "metadata": {
        "colab": {
          "base_uri": "https://localhost:8080/"
        },
        "id": "v77ZZalQ_O5D",
        "outputId": "d4de842c-7a8e-4f7a-9ee3-63c787dc1a77"
      },
      "outputs": [
        {
          "name": "stdout",
          "output_type": "stream",
          "text": [
            "Mounted at /content/drive\n"
          ]
        }
      ],
      "source": [
        "from google.colab import drive\n",
        "drive.mount('/content/drive')"
      ]
    },
    {
      "cell_type": "markdown",
      "metadata": {
        "id": "4atzWaGU_Rj1"
      },
      "source": [
        "# Set up Functions"
      ]
    },
    {
      "cell_type": "code",
      "execution_count": null,
      "metadata": {
        "id": "B7e_hwuG_REL"
      },
      "outputs": [],
      "source": [
        "def data_to_kNN(X,k):\n",
        "  edge_index = torch_geometric.nn.knn_graph(X, k)\n",
        "  edge_index = to_undirected(edge_index, num_nodes=X.shape[0])\n",
        "  return edge_index\n",
        "\n",
        "def data_to_GNN_data(X,Y,k):\n",
        "  dataset = []\n",
        "  N = X.shape[0]\n",
        "  for i in range(N):\n",
        "    data = Data(x = X[i,:,:], y = Y[i,:,:], edge_index = data_to_kNN(X[i,:,:],k))\n",
        "    data.num_nodes = 20\n",
        "    data.num_edges = data.edge_index.shape[1]\n",
        "    dataset.append(data)\n",
        "  return dataset\n",
        "\n",
        "def data_to_GNN_data_fm(X,Y,k):\n",
        "  dataset = []\n",
        "  N = len(X)\n",
        "  for i in tqdm(range(N)):\n",
        "    data = Data(x = X[i], y = Y[i], edge_index = data_to_kNN(X[i],k))\n",
        "    data.num_nodes = X[i].shape[0]\n",
        "    data.num_edges = data.edge_index.shape[1]\n",
        "    dataset.append(data)\n",
        "  return dataset"
      ]
    },
    {
      "cell_type": "code",
      "execution_count": null,
      "metadata": {
        "id": "2bbsQUEr_Vmm"
      },
      "outputs": [],
      "source": [
        "# Cucker-Smale Consensus Model (2D)\n",
        "\n",
        "import numpy as np\n",
        "from scipy import integrate\n",
        "import matplotlib.pyplot as plt\n",
        "import torch\n",
        "\n",
        "def CS(t,z,N):\n",
        "\n",
        "  dxdt = np.zeros(N); dydt = np.zeros(N)\n",
        "  dudt = np.zeros(N); dvdt = np.zeros(N)\n",
        "\n",
        "  x = z[0:N]; y = z[N:2*N]\n",
        "  u = z[2*N:3*N]; v = z[3*N:]\n",
        "\n",
        "  Fx = np.zeros((N,N)); Fy = np.zeros((N,N))\n",
        "\n",
        "  for i in range(0,N):\n",
        "    for j in range(0,N):\n",
        "        Fx[i,j] = (1/N)*Phi(np.linalg.norm(np.array([x[i]-x[j], y[i]-y[j]])))*(u[j]-u[i])\n",
        "        Fy[i,j] = (1/N)*Phi(np.linalg.norm(np.array([x[i]-x[j], y[i]-y[j]])))*(v[j]-v[i])\n",
        "\n",
        "  for i in range(0,N):\n",
        "    dxdt[i] = u[i]\n",
        "    dydt[i] = v[i]\n",
        "    dudt[i] = np.sum(Fx[i,:])\n",
        "    dvdt[i] = np.sum(Fy[i,:])\n",
        "\n",
        "  dzdt = np.concatenate((dxdt, dydt, dudt, dvdt))\n",
        "  return dzdt\n",
        "\n",
        "def Phi(r):\n",
        "   H = 1; s = 1; b = 1\n",
        "   y = H/(s**2+r**2)**b\n",
        "   return y\n",
        "\n",
        "# %%%%%%%%%%%%%%%%%%%%%%% Main %%%%%%%%%%%%%%%%%%%%%%%\n",
        "\n",
        "N = 20 # Number of agents\n",
        "T = 100 # Final time\n",
        "\n",
        "x0 = np.random.uniform(0,1,N)\n",
        "y0 = np.random.uniform(0,1,N)\n",
        "u0 = np.random.uniform(0,1,N)\n",
        "v0 = np.random.uniform(0,1,N)\n",
        "z0 = np.concatenate((x0,y0,u0,v0))\n",
        "\n",
        "t_eval = torch.tensor(range(0,500))*T/500\n",
        "\n",
        "soln = integrate.solve_ivp(CS, (0, T), z0, method='BDF',args=[N])\n",
        "\n",
        "x = soln.y[0:N,:]; y = soln.y[N:2*N,:];\n",
        "u = soln.y[2*N:3*N,:]; v = soln.y[3*N:4*N,:]"
      ]
    },
    {
      "cell_type": "code",
      "execution_count": null,
      "metadata": {
        "id": "Gjac7ljMBrid"
      },
      "outputs": [],
      "source": [
        "import torch\n",
        "from tqdm import tqdm\n",
        "\n",
        "X = torch.tensor(soln.y)\n",
        "t = torch.tensor(soln.t)\n",
        "\n",
        "N = 20 # Number of agents\n",
        "T_end = 100 # Final time\n",
        "N_initials = 500 # Number of initializations\n",
        "\n",
        "\n",
        "def create_data_one_initialization(N,T_end):\n",
        "    x0 = np.random.uniform(0,1,N)\n",
        "    y0 = np.random.uniform(0,1,N)\n",
        "    u0 = np.random.uniform(0,1,N)\n",
        "    v0 = np.random.uniform(0,1,N)\n",
        "    z0 = np.concatenate((x0,y0,u0,v0))\n",
        "\n",
        "    soln = integrate.solve_ivp(CS, (0, T_end), z0, method='BDF',args=[N])\n",
        "\n",
        "    X = torch.tensor(soln.y) # 4N x t =[x;y;xdot;ydot] X t\n",
        "    t = torch.tensor(soln.t)\n",
        "\n",
        "    Xtrn, Ytrn = create_y(X,t)\n",
        "    Xtrn = resize_tensor(Xtrn)\n",
        "    Ytrn = resize_tensor(Ytrn)\n",
        "\n",
        "    return Xtrn, Ytrn\n",
        "\n",
        "def create_data(N, T_end, N_initials):\n",
        "  Xtrn, Ytrn = create_data_one_initialization(N,T_end)\n",
        "  for i in tqdm(range(N_initials-1)):\n",
        "    Xtrn_new, Ytrn_new = create_data_one_initialization(N,T_end)\n",
        "\n",
        "    Xtrn = torch.cat((Xtrn, Xtrn_new), dim = 0)\n",
        "    Ytrn = torch.cat((Ytrn, Ytrn_new), dim = 0)\n",
        "\n",
        "  return Xtrn, Ytrn\n",
        "\n",
        "def create_y(X,t):\n",
        "  N = X.shape[0]\n",
        "  T = X.shape[1]\n",
        "\n",
        "  n = N//4\n",
        "\n",
        "  y = torch.zeros(N,T)\n",
        "  for i in range(1,T-1):\n",
        "    y[:n,i] = X[2*n:3*n, i]\n",
        "    y[n:2*n,i] = X[3*n:, i]\n",
        "    y[2*n:,i] = (X[2*n:,i+1] - X[2*n:,i-1])/(t[i+1]-t[i-1])\n",
        "\n",
        "  return X[:,1:-1], y[:,1:-1]\n",
        "\n",
        "def resize_tensor(A):\n",
        "  N, T = A.shape\n",
        "  n = N//4\n",
        "  new_A = torch.zeros(T, N//4, 4)\n",
        "\n",
        "  new_A[:,:,0] = A.T[:,:n]\n",
        "  new_A[:,:,1] = A.T[:,n:2*n]\n",
        "  new_A[:,:,2] = A.T[:,2*n:3*n]\n",
        "  new_A[:,:,3] = A.T[:,3*n:]\n",
        "\n",
        "  return new_A"
      ]
    },
    {
      "cell_type": "markdown",
      "metadata": {
        "id": "Iz0bQRLdBj-9"
      },
      "source": [
        "# Set up the Models"
      ]
    },
    {
      "cell_type": "code",
      "execution_count": null,
      "metadata": {
        "id": "UsT13ZQ4IOro"
      },
      "outputs": [],
      "source": [
        "import torch\n",
        "import scipy.io as sio\n",
        "import torch.nn as nn"
      ]
    },
    {
      "cell_type": "code",
      "execution_count": null,
      "metadata": {
        "id": "efkeaJDcIPSu"
      },
      "outputs": [],
      "source": [
        "# Throughout this we are going to assume that data is of the form B x N x D\n",
        "# Where B is the batch size, N is the sequence length for the transformer\n",
        "# this the number of data points. Finally D is the embedding dimension.\n",
        "class SimpleAttention(nn.Module):\n",
        "  # Initialize the parameter\n",
        "  def __init__(self, hidden_dim):\n",
        "    super(SimpleAttention, self).__init__()\n",
        "    self.linear = nn.Linear(hidden_dim, hidden_dim)\n",
        "    self.WQ = nn.Linear(hidden_dim, hidden_dim, bias = False)\n",
        "    self.WK = nn.Linear(hidden_dim, hidden_dim, bias = False)\n",
        "    self.WV = nn.Linear(hidden_dim, hidden_dim, bias = False)\n",
        "    self.skip = nn.Linear(hidden_dim, hidden_dim)\n",
        "    self.attention = nn.MultiheadAttention(hidden_dim, 1, batch_first=True)\n",
        "\n",
        "  # Forward pass\n",
        "  def forward(self, input):\n",
        "    Q = self.WQ(input)\n",
        "    K = self.WK(input)\n",
        "    V = self.WV(input)\n",
        "    output_attention,_ = self.attention(Q,K,V)\n",
        "    output_linear = self.linear(output_attention.relu()).relu()\n",
        "    return output_linear + self.skip(input)\n",
        "\n",
        "class SimpleTransformer(nn.Module):\n",
        "# Initialize the parameter\n",
        "  def __init__(self, input_dim, hidden_dim, out_dim, num_layers):\n",
        "    super(SimpleTransformer, self).__init__()\n",
        "    self.embed = nn.Linear(input_dim, hidden_dim)\n",
        "    self.predictor = nn.Linear(hidden_dim, out_dim)\n",
        "    self.AttentionLayers = []\n",
        "    for i in range(num_layers):\n",
        "      self.AttentionLayers.append(SimpleAttention(hidden_dim))\n",
        "\n",
        "    self.AttentionLayers = nn.ModuleList(self.AttentionLayers)\n",
        "    self.num_layers = num_layers\n",
        "\n",
        "  # Forward pass\n",
        "  def forward(self, z):\n",
        "    z = self.embed(z)\n",
        "    for i in range(self.num_layers):\n",
        "      z = self.AttentionLayers[i](z)\n",
        "    return self.predictor(z)\n",
        "\n",
        "\n",
        "class FNN(nn.Module):\n",
        "  def __init__(self, input_dim, hidden_dim, out_dim, num_layers, d):\n",
        "    super(FNN, self).__init__()\n",
        "    self.embed = nn.Linear(input_dim, hidden_dim)\n",
        "    self.predictor = nn.Linear(hidden_dim, out_dim)\n",
        "    self.Layers = []\n",
        "    for i in range(num_layers):\n",
        "      self.Layers.append(nn.Linear(hidden_dim, hidden_dim))\n",
        "\n",
        "    self.Layers = nn.ModuleList(self.Layers)\n",
        "    self.num_layers = num_layers\n",
        "    self.d = d\n",
        "\n",
        "  # Input size B x N X 4\n",
        "  def forward(self,x):\n",
        "    x = torch.flatten(x, 1, 2) # B x N4\n",
        "    x = self.embed(x).relu()\n",
        "    for i in range(self.num_layers):\n",
        "      x = self.Layers[i](x).relu()\n",
        "    x = self.predictor(x)\n",
        "    x = torch.unflatten(x, 1, (-1,self.d))\n",
        "    return x\n",
        "\n",
        "def kernel_basis(X, d1, d2):\n",
        "  N = X.shape[0]\n",
        "  d = X.shape[1]\n",
        "\n",
        "  Phi = torch.zeros(N, (d1+2*d2)*d, device = X.device)\n",
        "  for i in range(d1+2*d2):\n",
        "    if i < d1:\n",
        "      for j in range(d):\n",
        "        Phi[:,d*i+j] = X[:,j].pow(i+1)\n",
        "    elif i < d1+d2:\n",
        "      for j in range(d):\n",
        "        k = i-d1+1\n",
        "        Phi[:,d*i+j] = (X[:,j]*k).sin()\n",
        "    else:\n",
        "      for j in range(d):\n",
        "        k = i-d1-d2+1\n",
        "        Phi[:,d*i+j] = torch.cos(X[:,j]*k)\n",
        "\n",
        "  return Phi\n",
        "\n",
        "class Kernel(nn.Module):\n",
        "  def __init__(self, feature_dim, out_dim, d, embed=kernel_basis):\n",
        "    super(Kernel, self).__init__()\n",
        "    self.predictor = nn.Linear(feature_dim, out_dim, device = \"cuda\")\n",
        "    self.embed = embed\n",
        "    self.d = d\n",
        "\n",
        "  # Input size B x N X 4\n",
        "  def forward(self,x):\n",
        "    x = self.predictor(x)\n",
        "    x = torch.unflatten(x, 1, (-1,self.d))\n",
        "    return x\n"
      ]
    },
    {
      "cell_type": "code",
      "execution_count": null,
      "metadata": {
        "id": "e2g0EVF6JEqI"
      },
      "outputs": [],
      "source": [
        "def get_nn(in_channels, out_channels):\n",
        "  return torch.nn.Sequential(torch.nn.Linear(in_channels, out_channels), torch.nn.ReLU(),\n",
        "                             torch.nn.Linear(out_channels, out_channels))\n",
        "\n",
        "class GNN(torch.nn.Module):\n",
        "  def __init__(self, node_input_dim, output_dim, num_layers, hidden_dim = 128, device = \"cuda\", arch = \"Graph\"):\n",
        "    super().__init__()\n",
        "\n",
        "    self.num_layers = num_layers\n",
        "    self.layers = []\n",
        "    if arch == \"Transformer\":\n",
        "      self.layers.append(torch_geometric.nn.TransformerConv(node_input_dim, hidden_dim).to(device))\n",
        "      for i in range(num_layers-1):\n",
        "        self.layers.append(torch_geometric.nn.TransformerConv(hidden_dim, hidden_dim).to(device))\n",
        "    elif arch == \"Graph\":\n",
        "      self.layers.append(torch_geometric.nn.GraphConv(node_input_dim, hidden_dim).to(device))\n",
        "      for i in range(num_layers-1):\n",
        "        self.layers.append(torch_geometric.nn.GraphConv(hidden_dim, hidden_dim).to(device))\n",
        "    elif arch == \"GIN\":\n",
        "      self.layers.append(torch_geometric.nn.GINConv(get_nn(node_input_dim, hidden_dim)).to(device))\n",
        "      for i in range(num_layers-1):\n",
        "        self.layers.append(torch_geometric.nn.GINConv(get_nn(hidden_dim, hidden_dim)).to(device))\n",
        "\n",
        "    self.layers = torch.nn.ModuleList(self.layers)\n",
        "    self.lin = torch.nn.Linear(hidden_dim, output_dim).to(device)\n",
        "\n",
        "  def forward(self, x, edge_index, batch):\n",
        "    for i in range(self.num_layers):\n",
        "      x = self.layers[i](x, edge_index).relu()\n",
        "\n",
        "    z = self.lin(x)\n",
        "    return z"
      ]
    },
    {
      "cell_type": "code",
      "execution_count": null,
      "metadata": {
        "id": "t1DlEToa-i94"
      },
      "outputs": [],
      "source": [
        "class Cylindrical_FNN(torch.nn.Module):\n",
        "  def __init__(self, input_dim, hidden_dim, out_dim, num_layers):\n",
        "    super(Cylindrical_FNN, self).__init__()\n",
        "    self.layers = []\n",
        "    self.layers.append(nn.Linear(input_dim, hidden_dim))\n",
        "    for i in range(num_layers-2):\n",
        "      self.layers.append(nn.Linear(hidden_dim, hidden_dim))\n",
        "    self.layers.append(nn.Linear(hidden_dim, out_dim))\n",
        "\n",
        "    self.layers = nn.ModuleList(self.layers)\n",
        "\n",
        "  def forward(self, x):\n",
        "    for i in range(len(self.layers)):\n",
        "      x = self.layers[i](x).relu()\n",
        "    return x\n",
        "\n",
        "class Cylindrical(torch.nn.Module):\n",
        "  def __init__(self, node_input_dim, output_dim, num_layers_psi, num_layers_phi, hidden_dim = 128, device = \"cuda\"):\n",
        "    super().__init__()\n",
        "\n",
        "    self.psi = Cylindrical_FNN(node_input_dim, hidden_dim, hidden_dim, num_layers_psi).to(device)\n",
        "    self.phi = Cylindrical_FNN(hidden_dim+node_input_dim, hidden_dim, output_dim, num_layers_phi).to(device)\n",
        "\n",
        "  def forward(self, x):\n",
        "    # print(x.shape)\n",
        "    z = self.psi(x)\n",
        "    # print(z.shape, z.mean(dim=1).shape)\n",
        "    z_mean = z.mean(dim=1).unsqueeze(1).repeat(1, x.shape[1], 1)\n",
        "    # print(z_mean.shape)\n",
        "    z = torch.cat((z_mean,x), dim=-1)\n",
        "    z = self.phi(z)\n",
        "\n",
        "    return z"
      ]
    },
    {
      "cell_type": "markdown",
      "metadata": {
        "id": "Eyft-IBABxzb"
      },
      "source": [
        "# Training the Model"
      ]
    },
    {
      "cell_type": "code",
      "execution_count": null,
      "metadata": {
        "colab": {
          "base_uri": "https://localhost:8080/"
        },
        "id": "8ItBdD1PBznE",
        "outputId": "199920a9-0405-472c-9a84-6441f59c3a75"
      },
      "outputs": [
        {
          "name": "stderr",
          "output_type": "stream",
          "text": [
            "<ipython-input-15-627000409fd4>:1: FutureWarning: You are using `torch.load` with `weights_only=False` (the current default value), which uses the default pickle module implicitly. It is possible to construct malicious pickle data which will execute arbitrary code during unpickling (See https://github.com/pytorch/pytorch/blob/main/SECURITY.md#untrusted-models for more details). In a future release, the default value for `weights_only` will be flipped to `True`. This limits the functions that could be executed during unpickling. Arbitrary objects will no longer be allowed to be loaded via this mode unless they are explicitly allowlisted by the user via `torch.serialization.add_safe_globals`. We recommend you start setting `weights_only=True` for any use case where you don't have full control of the loaded file. Please open an issue on GitHub for any issues related to this experimental feature.\n",
            "  Xtrn, Ytrn = torch.load(\"drive/MyDrive/MeasureMaps/data-cucker-2.pt\")\n",
            "<ipython-input-15-627000409fd4>:3: FutureWarning: You are using `torch.load` with `weights_only=False` (the current default value), which uses the default pickle module implicitly. It is possible to construct malicious pickle data which will execute arbitrary code during unpickling (See https://github.com/pytorch/pytorch/blob/main/SECURITY.md#untrusted-models for more details). In a future release, the default value for `weights_only` will be flipped to `True`. This limits the functions that could be executed during unpickling. Arbitrary objects will no longer be allowed to be loaded via this mode unless they are explicitly allowlisted by the user via `torch.serialization.add_safe_globals`. We recommend you start setting `weights_only=True` for any use case where you don't have full control of the loaded file. Please open an issue on GitHub for any issues related to this experimental feature.\n",
            "  train_idx = torch.load(\"drive/MyDrive/MeasureMaps/Cucker-data-split.pt\")[0]\n"
          ]
        }
      ],
      "source": [
        "Xtrn, Ytrn = torch.load(\"drive/MyDrive/MeasureMaps/data-cucker-2.pt\")\n",
        "\n",
        "train_idx = torch.load(\"drive/MyDrive/MeasureMaps/Cucker-data-split.pt\")[0]\n",
        "\n",
        "# train_X = [Xtrn[i] for i in train_idx]\n",
        "# train_Y = [Ytrn[i] for i in train_idx]\n",
        "\n",
        "# dataset_knn = data_to_GNN_data(Xtrn, Ytrn, 3)\n",
        "# dataset_full = data_to_GNN_data(Xtrn, Ytrn, 20)\n",
        "train_data = torch.utils.data.TensorDataset(Xtrn[train_idx,:,:], Ytrn[train_idx,:,:])\n",
        "\n",
        "train_loader = torch.utils.data.DataLoader(train_data, shuffle = True, batch_size=500)\n",
        "# train_loader_gnn_full = DataLoader([dataset_full[i] for i in train_idx.numpy()], shuffle = True, batch_size = 500)\n",
        "# train_loader_gnn_knn = DataLoader([dataset_knn[i] for i in train_idx.numpy()], shuffle = True, batch_size = 500)"
      ]
    },
    {
      "cell_type": "code",
      "execution_count": null,
      "metadata": {
        "colab": {
          "base_uri": "https://localhost:8080/"
        },
        "id": "GDaYmffp-skQ",
        "outputId": "82e6b378-5c4b-403b-9eef-76f5d355f9cc"
      },
      "outputs": [
        {
          "name": "stderr",
          "output_type": "stream",
          "text": [
            "100%|██████████| 1001/1001 [02:38<00:00,  6.31it/s]\n",
            "100%|██████████| 1001/1001 [02:38<00:00,  6.32it/s]\n",
            "100%|██████████| 1001/1001 [02:38<00:00,  6.32it/s]\n",
            "100%|██████████| 1001/1001 [02:38<00:00,  6.30it/s]\n",
            "100%|██████████| 1001/1001 [02:38<00:00,  6.31it/s]\n",
            "100%|██████████| 1001/1001 [02:38<00:00,  6.30it/s]\n",
            "100%|██████████| 1001/1001 [02:38<00:00,  6.31it/s]\n",
            "100%|██████████| 1001/1001 [02:39<00:00,  6.29it/s]\n",
            "100%|██████████| 1001/1001 [02:39<00:00,  6.29it/s]\n",
            "100%|██████████| 1001/1001 [02:38<00:00,  6.30it/s]\n",
            "100%|██████████| 1001/1001 [02:38<00:00,  6.30it/s]\n",
            "100%|██████████| 1001/1001 [02:38<00:00,  6.31it/s]\n",
            "100%|██████████| 1001/1001 [02:39<00:00,  6.29it/s]\n",
            "100%|██████████| 1001/1001 [02:38<00:00,  6.30it/s]\n",
            "100%|██████████| 1001/1001 [02:38<00:00,  6.30it/s]\n",
            "100%|██████████| 1001/1001 [02:38<00:00,  6.30it/s]\n",
            "100%|██████████| 1001/1001 [02:38<00:00,  6.33it/s]\n",
            "100%|██████████| 1001/1001 [02:37<00:00,  6.35it/s]\n",
            "100%|██████████| 1001/1001 [02:44<00:00,  6.10it/s]\n",
            "100%|██████████| 1001/1001 [02:43<00:00,  6.11it/s]\n",
            "100%|██████████| 1001/1001 [02:44<00:00,  6.10it/s]\n",
            "100%|██████████| 1001/1001 [02:43<00:00,  6.11it/s]\n",
            "100%|██████████| 1001/1001 [02:44<00:00,  6.09it/s]\n",
            "100%|██████████| 1001/1001 [02:44<00:00,  6.09it/s]\n",
            "100%|██████████| 1001/1001 [02:44<00:00,  6.10it/s]\n",
            "100%|██████████| 1001/1001 [02:43<00:00,  6.11it/s]\n",
            "100%|██████████| 1001/1001 [02:43<00:00,  6.11it/s]\n",
            "100%|██████████| 1001/1001 [02:37<00:00,  6.36it/s]\n",
            "100%|██████████| 1001/1001 [02:38<00:00,  6.30it/s]\n",
            "100%|██████████| 1001/1001 [02:38<00:00,  6.32it/s]\n",
            "100%|██████████| 1001/1001 [02:38<00:00,  6.30it/s]\n",
            "100%|██████████| 1001/1001 [02:38<00:00,  6.31it/s]\n",
            "100%|██████████| 1001/1001 [02:38<00:00,  6.31it/s]\n",
            "100%|██████████| 1001/1001 [02:38<00:00,  6.31it/s]\n",
            "100%|██████████| 1001/1001 [02:38<00:00,  6.31it/s]\n",
            "100%|██████████| 1001/1001 [02:37<00:00,  6.34it/s]\n",
            "100%|██████████| 1001/1001 [02:38<00:00,  6.32it/s]\n",
            "100%|██████████| 1001/1001 [02:38<00:00,  6.32it/s]\n",
            "100%|██████████| 1001/1001 [02:39<00:00,  6.29it/s]\n",
            "100%|██████████| 1001/1001 [02:39<00:00,  6.28it/s]\n",
            "100%|██████████| 1001/1001 [02:39<00:00,  6.27it/s]\n",
            "100%|██████████| 1001/1001 [02:38<00:00,  6.32it/s]\n",
            "100%|██████████| 1001/1001 [02:38<00:00,  6.31it/s]\n",
            "100%|██████████| 1001/1001 [02:38<00:00,  6.32it/s]\n",
            "100%|██████████| 1001/1001 [02:39<00:00,  6.29it/s]\n",
            "100%|██████████| 1001/1001 [02:44<00:00,  6.10it/s]\n",
            "100%|██████████| 1001/1001 [02:44<00:00,  6.09it/s]\n",
            "100%|██████████| 1001/1001 [02:43<00:00,  6.11it/s]\n",
            "100%|██████████| 1001/1001 [02:44<00:00,  6.10it/s]\n",
            "100%|██████████| 1001/1001 [02:44<00:00,  6.09it/s]\n",
            "100%|██████████| 1001/1001 [02:44<00:00,  6.10it/s]\n",
            "100%|██████████| 1001/1001 [02:43<00:00,  6.11it/s]\n",
            "100%|██████████| 1001/1001 [02:43<00:00,  6.11it/s]\n",
            "100%|██████████| 1001/1001 [02:43<00:00,  6.12it/s]\n",
            "100%|██████████| 1001/1001 [02:38<00:00,  6.33it/s]\n",
            "100%|██████████| 1001/1001 [02:38<00:00,  6.33it/s]\n",
            "100%|██████████| 1001/1001 [02:38<00:00,  6.32it/s]\n",
            "100%|██████████| 1001/1001 [02:38<00:00,  6.32it/s]\n",
            "100%|██████████| 1001/1001 [02:38<00:00,  6.30it/s]\n",
            "100%|██████████| 1001/1001 [02:38<00:00,  6.30it/s]\n",
            "100%|██████████| 1001/1001 [02:38<00:00,  6.32it/s]\n",
            "100%|██████████| 1001/1001 [02:38<00:00,  6.32it/s]\n",
            "100%|██████████| 1001/1001 [02:38<00:00,  6.31it/s]\n",
            "100%|██████████| 1001/1001 [02:38<00:00,  6.33it/s]\n",
            "100%|██████████| 1001/1001 [02:38<00:00,  6.33it/s]\n",
            "100%|██████████| 1001/1001 [02:37<00:00,  6.34it/s]\n",
            "100%|██████████| 1001/1001 [02:38<00:00,  6.32it/s]\n",
            "100%|██████████| 1001/1001 [02:37<00:00,  6.34it/s]\n",
            "100%|██████████| 1001/1001 [02:39<00:00,  6.29it/s]\n",
            "100%|██████████| 1001/1001 [02:38<00:00,  6.32it/s]\n",
            "100%|██████████| 1001/1001 [02:38<00:00,  6.31it/s]\n",
            "100%|██████████| 1001/1001 [02:38<00:00,  6.33it/s]\n",
            "100%|██████████| 1001/1001 [02:43<00:00,  6.11it/s]\n",
            "100%|██████████| 1001/1001 [02:43<00:00,  6.11it/s]\n",
            "100%|██████████| 1001/1001 [02:43<00:00,  6.11it/s]\n",
            "100%|██████████| 1001/1001 [02:43<00:00,  6.12it/s]\n",
            "100%|██████████| 1001/1001 [02:44<00:00,  6.09it/s]\n",
            "100%|██████████| 1001/1001 [02:44<00:00,  6.08it/s]\n",
            "100%|██████████| 1001/1001 [02:44<00:00,  6.08it/s]\n",
            "100%|██████████| 1001/1001 [02:44<00:00,  6.09it/s]\n",
            "100%|██████████| 1001/1001 [02:44<00:00,  6.09it/s]\n",
            "100%|██████████| 1001/1001 [02:38<00:00,  6.32it/s]\n",
            "100%|██████████| 1001/1001 [02:38<00:00,  6.31it/s]\n",
            "100%|██████████| 1001/1001 [02:38<00:00,  6.32it/s]\n",
            "100%|██████████| 1001/1001 [02:38<00:00,  6.30it/s]\n",
            "100%|██████████| 1001/1001 [02:38<00:00,  6.31it/s]\n",
            "100%|██████████| 1001/1001 [02:39<00:00,  6.29it/s]\n",
            "100%|██████████| 1001/1001 [02:38<00:00,  6.32it/s]\n",
            "100%|██████████| 1001/1001 [02:38<00:00,  6.30it/s]\n",
            "100%|██████████| 1001/1001 [02:38<00:00,  6.31it/s]\n",
            "100%|██████████| 1001/1001 [02:39<00:00,  6.28it/s]\n",
            "100%|██████████| 1001/1001 [02:39<00:00,  6.28it/s]\n",
            "100%|██████████| 1001/1001 [02:39<00:00,  6.28it/s]\n",
            "100%|██████████| 1001/1001 [02:38<00:00,  6.31it/s]\n",
            "100%|██████████| 1001/1001 [02:38<00:00,  6.30it/s]\n",
            "100%|██████████| 1001/1001 [02:38<00:00,  6.32it/s]\n",
            "100%|██████████| 1001/1001 [02:38<00:00,  6.30it/s]\n",
            "100%|██████████| 1001/1001 [02:37<00:00,  6.35it/s]\n",
            "100%|██████████| 1001/1001 [02:38<00:00,  6.30it/s]\n",
            "100%|██████████| 1001/1001 [02:44<00:00,  6.10it/s]\n",
            "100%|██████████| 1001/1001 [02:44<00:00,  6.10it/s]\n",
            "100%|██████████| 1001/1001 [02:43<00:00,  6.12it/s]\n",
            "100%|██████████| 1001/1001 [02:45<00:00,  6.06it/s]\n",
            "100%|██████████| 1001/1001 [02:44<00:00,  6.07it/s]\n",
            "100%|██████████| 1001/1001 [02:44<00:00,  6.07it/s]\n",
            "100%|██████████| 1001/1001 [02:44<00:00,  6.08it/s]\n",
            "100%|██████████| 1001/1001 [02:44<00:00,  6.08it/s]\n",
            "100%|██████████| 1001/1001 [02:44<00:00,  6.08it/s]\n",
            "100%|██████████| 1001/1001 [02:38<00:00,  6.32it/s]\n",
            "100%|██████████| 1001/1001 [02:38<00:00,  6.32it/s]\n",
            "100%|██████████| 1001/1001 [02:38<00:00,  6.31it/s]\n",
            "100%|██████████| 1001/1001 [02:39<00:00,  6.28it/s]\n",
            "100%|██████████| 1001/1001 [02:38<00:00,  6.31it/s]\n",
            "100%|██████████| 1001/1001 [02:38<00:00,  6.32it/s]\n",
            "100%|██████████| 1001/1001 [02:38<00:00,  6.33it/s]\n",
            "100%|██████████| 1001/1001 [02:38<00:00,  6.32it/s]\n",
            "100%|██████████| 1001/1001 [02:39<00:00,  6.27it/s]\n",
            "100%|██████████| 1001/1001 [02:38<00:00,  6.32it/s]\n",
            "100%|██████████| 1001/1001 [02:38<00:00,  6.30it/s]\n",
            "100%|██████████| 1001/1001 [02:38<00:00,  6.31it/s]\n",
            "100%|██████████| 1001/1001 [02:38<00:00,  6.31it/s]\n",
            "100%|██████████| 1001/1001 [02:38<00:00,  6.30it/s]\n",
            "100%|██████████| 1001/1001 [02:39<00:00,  6.29it/s]\n",
            "100%|██████████| 1001/1001 [02:38<00:00,  6.30it/s]\n",
            "100%|██████████| 1001/1001 [02:38<00:00,  6.30it/s]\n",
            "100%|██████████| 1001/1001 [02:38<00:00,  6.32it/s]\n",
            "100%|██████████| 1001/1001 [02:44<00:00,  6.08it/s]\n",
            "100%|██████████| 1001/1001 [02:44<00:00,  6.09it/s]\n",
            "100%|██████████| 1001/1001 [02:44<00:00,  6.09it/s]\n",
            "100%|██████████| 1001/1001 [02:44<00:00,  6.08it/s]\n",
            "100%|██████████| 1001/1001 [02:45<00:00,  6.07it/s]\n",
            "100%|██████████| 1001/1001 [02:44<00:00,  6.08it/s]\n",
            "100%|██████████| 1001/1001 [02:45<00:00,  6.06it/s]\n",
            "100%|██████████| 1001/1001 [02:44<00:00,  6.07it/s]\n",
            "100%|██████████| 1001/1001 [02:45<00:00,  6.06it/s]\n"
          ]
        }
      ],
      "source": [
        "from tqdm import tqdm\n",
        "\n",
        "depths = [3,4,5]\n",
        "widths = [128,256,512]\n",
        "lrs = [2e-4, 1e-3, 1e-4]\n",
        "T = 5\n",
        "\n",
        "epochs = 1001\n",
        "\n",
        "for t in range(T):\n",
        "  for d in depths: # depth\n",
        "    for h in widths: # width\n",
        "      for lr in lrs:\n",
        "        if os.path.exists(\"drive/MyDrive/MeasureMaps/Cylindrical/trial-\"+str(t)+\"-depth-\"+str(d)+\"-width-\"+str(h)+\"-lr-\"+str(lr)+\"-epoch-\"+str(10)+\".pt\"):\n",
        "          print(\"Done with\",t,d,h,lr)\n",
        "          continue\n",
        "        model_cylin = Cylindrical(4,4,d//2, d - d//2, h).to('cuda')\n",
        "\n",
        "        optimizer_cylin = torch.optim.Adam(model_cylin.parameters(), lr = lr)\n",
        "        scheduler_cylin = torch.optim.lr_scheduler.CosineAnnealingLR(optimizer_cylin, epochs)\n",
        "\n",
        "        for i in tqdm(range(epochs)):\n",
        "          for X,Y in train_loader:\n",
        "            optimizer_cylin.zero_grad()\n",
        "            X = X.to('cuda')\n",
        "            Y = Y.to('cuda')\n",
        "            Y_pred = model_cylin(X)\n",
        "            loss = torch.nn.functional.mse_loss(Y_pred, Y)\n",
        "            loss.backward()\n",
        "            optimizer_cylin.step()\n",
        "          if i % 100 == 0:\n",
        "            torch.save(model_cylin,\"drive/MyDrive/MeasureMaps/Cylindrical/trial-\"+str(t)+\"-depth-\"+str(d)+\"-width-\"+str(h)+\"-lr-\"+str(lr)+\"-epoch-\"+str(i)+\".pt\")\n",
        "          scheduler_cylin.step()"
      ]
    },
    {
      "cell_type": "code",
      "execution_count": null,
      "metadata": {
        "id": "SlkLr-l3B8ou"
      },
      "outputs": [],
      "source": [
        "depths = [3,4,5]\n",
        "widths = [128,256,512]\n",
        "lrs = [1e-4, 2e-4, 1e-3]\n",
        "T = 5\n",
        "\n",
        "epochs = 1001\n",
        "\n",
        "for t in range(3,T):\n",
        "  for d in depths:\n",
        "    for h in widths:\n",
        "      for lr in lrs:\n",
        "        model_transformer = SimpleTransformer(4,h,4,d).to('cuda')\n",
        "\n",
        "        optimizer_transformer = torch.optim.Adam(model_transformer.parameters(), lr = lr)\n",
        "        scheduler_transformer = torch.optim.lr_scheduler.CosineAnnealingLR(optimizer_transformer, epochs)\n",
        "\n",
        "        for i in tqdm(range(epochs)):\n",
        "          for X,Y in train_loader:\n",
        "            optimizer_transformer.zero_grad()\n",
        "            Y_pred = model_transformer(X)\n",
        "            loss = torch.nn.functional.mse_loss(Y_pred, Y)\n",
        "            loss.backward()\n",
        "            optimizer_transformer.step()\n",
        "          if i % 100 == 0:\n",
        "            torch.save(model_transformer,\"drive/MyDrive/MeasureMaps/Transformer/trial-\"+str(t)+\"-depth-\"+str(d)+\"-width-\"+str(h)+\"-lr-\"+str(lr)+\"-epoch-\"+str(i)+\".pt\")\n",
        "          scheduler_transformer.step()"
      ]
    },
    {
      "cell_type": "code",
      "execution_count": null,
      "metadata": {
        "id": "ifnOylwFDtnK"
      },
      "outputs": [],
      "source": [
        "degree = [2,3,4]\n",
        "frequencies = [4,5,6]\n",
        "lrs = [1e-4, 2e-4, 1e-3]\n",
        "T = 5\n",
        "\n",
        "epochs = 1001\n",
        "\n",
        "for t in range(T):\n",
        "  for d1 in degree:\n",
        "    for d2 in frequencies:\n",
        "      for lr in lrs:\n",
        "        Xtrn_data_kernel = kernel_basis(torch.flatten(Xtrn_data,1,2),d1,d2)\n",
        "        train_data_kernel = torch.utils.data.TensorDataset(Xtrn_data_kernel[train_idx,:], Ytrn_data[train_idx,:,:])\n",
        "        train_loader_kernel = torch.utils.data.DataLoader(train_data_kernel, shuffle = True, batch_size=500)\n",
        "\n",
        "        model_kernel = Kernel((d1+2*d2)*4*20,80,4).to('cuda')\n",
        "\n",
        "        optimizer_kernel = torch.optim.Adam(model_kernel.parameters(), lr = lr)\n",
        "        scheduler_kernel = torch.optim.lr_scheduler.CosineAnnealingLR(optimizer_kernel, epochs)\n",
        "\n",
        "        for i in tqdm(range(epochs)):\n",
        "          for X,Y in train_loader_kernel:\n",
        "            optimizer_kernel.zero_grad()\n",
        "            Y_pred = model_kernel(X)\n",
        "            loss = torch.nn.functional.mse_loss(Y_pred, Y)\n",
        "            loss.backward()\n",
        "            optimizer_kernel.step()\n",
        "          if i % 100 == 0:\n",
        "            torch.save(model_kernel,\"drive/MyDrive/MeasureMaps/Kernel/trial-\"+str(t)+\"-degree-\"+str(d1)+\"-frequency-\"+str(d2)+\"-lr-\"+str(lr)+\"-epoch-\"+str(i)+\".pt\")\n",
        "          scheduler_kernel.step()"
      ]
    },
    {
      "cell_type": "code",
      "execution_count": null,
      "metadata": {
        "id": "yh98hLRYDwoR"
      },
      "outputs": [],
      "source": [
        "from tqdm import tqdm\n",
        "\n",
        "depths = [3,4,5]\n",
        "widths = [128,256,512]\n",
        "lrs = [1e-4, 2e-4, 1e-3]\n",
        "T = 5\n",
        "N = 20\n",
        "\n",
        "epochs = 1001\n",
        "\n",
        "for t in range(1):\n",
        "  for d in depths:\n",
        "    for h in widths:\n",
        "      for lr in lrs:\n",
        "        model_fnn = FNN(4*N,h,4*N,d,4).to('cuda')\n",
        "\n",
        "\n",
        "        optimizer_fnn = torch.optim.Adam(model_fnn.parameters(), lr = lr)\n",
        "        scheduler_fnn = torch.optim.lr_scheduler.CosineAnnealingLR(optimizer_fnn, epochs)\n",
        "\n",
        "        for i in tqdm(range(epochs)):\n",
        "          for X,Y in train_loader:\n",
        "            optimizer_fnn.zero_grad()\n",
        "            Y_pred = model_fnn(X)\n",
        "            loss = torch.nn.functional.mse_loss(Y_pred, Y)\n",
        "            loss.backward()\n",
        "            optimizer_fnn.step()\n",
        "          if i % 100 == 0:\n",
        "            torch.save(model_fnn,\"drive/MyDrive/MeasureMaps/FNN/trial-\"+str(t)+\"-depth-\"+str(d)+\"-width-\"+str(h)+\"-lr-\"+str(lr)+\"-epoch-\"+str(i)+\".pt\")\n",
        "          scheduler_fnn.step()"
      ]
    },
    {
      "cell_type": "code",
      "execution_count": null,
      "metadata": {
        "id": "Frzi8tVBD0Te"
      },
      "outputs": [],
      "source": [
        "from tqdm import tqdm\n",
        "\n",
        "depths = [3,4,5]\n",
        "widths = [128,256,512]\n",
        "lrs = [1e-4, 2e-4, 1e-3]\n",
        "T = 5\n",
        "\n",
        "epochs = 1001\n",
        "\n",
        "for t in range(T):\n",
        "  for d in depths:\n",
        "    for h in widths:\n",
        "      for lr in lrs:\n",
        "        model_gnn = GNN(4,4,d,h).to('cuda')\n",
        "\n",
        "\n",
        "        optimizer_gnn = torch.optim.Adam(model_gnn.parameters(), lr = lr)\n",
        "        scheduler_gnn = torch.optim.lr_scheduler.CosineAnnealingLR(optimizer_gnn, epochs)\n",
        "\n",
        "        for i in tqdm(range(epochs)):\n",
        "          for data in train_loader_gnn_full:\n",
        "            optimizer_gnn.zero_grad()\n",
        "            data = data.to('cuda')\n",
        "            Y_pred = model_gnn(data.x, data.edge_index, data.batch)\n",
        "            loss = torch.nn.functional.mse_loss(Y_pred, data.y)\n",
        "            loss.backward()\n",
        "            optimizer_gnn.step()\n",
        "          if i % 100 == 0:\n",
        "            torch.save(model_gnn,\"drive/MyDrive/MeasureMaps/GNN/GraphConv Full/trial-\"+str(t)+\"-depth-\"+str(d)+\"-width-\"+str(h)+\"-lr-\"+str(lr)+\"-epoch-\"+str(i)+\".pt\")\n",
        "          scheduler_gnn.step()"
      ]
    },
    {
      "cell_type": "code",
      "execution_count": null,
      "metadata": {
        "id": "JMQQ9-bUD4sw"
      },
      "outputs": [],
      "source": [
        "depths = [3,4,5]\n",
        "widths = [128,256,512]\n",
        "lrs = [1e-4, 2e-4, 1e-3]\n",
        "T = 5\n",
        "\n",
        "epochs = 1001\n",
        "\n",
        "for t in range(T):\n",
        "  for d in depths:\n",
        "    for h in widths:\n",
        "      for lr in lrs:\n",
        "        model_gnn = GNN(4,4,d,h).to('cuda')\n",
        "\n",
        "\n",
        "        optimizer_gnn = torch.optim.Adam(model_gnn.parameters(), lr = lr)\n",
        "        scheduler_gnn = torch.optim.lr_scheduler.CosineAnnealingLR(optimizer_gnn, epochs)\n",
        "\n",
        "        for i in tqdm(range(epochs)):\n",
        "          for data in train_loader_gnn_knn:\n",
        "            optimizer_gnn.zero_grad()\n",
        "            data = data.to('cuda')\n",
        "            Y_pred = model_gnn(data.x, data.edge_index, data.batch)\n",
        "            loss = torch.nn.functional.mse_loss(Y_pred, data.y)\n",
        "            loss.backward()\n",
        "            optimizer_gnn.step()\n",
        "          if i % 100 == 0:\n",
        "            torch.save(model_gnn,\"drive/MyDrive/MeasureMaps/GNN/GraphConv KNN/trial-\"+str(t)+\"-depth-\"+str(d)+\"-width-\"+str(h)+\"-lr-\"+str(lr)+\"-epoch-\"+str(i)+\".pt\")\n",
        "          scheduler_gnn.step()"
      ]
    },
    {
      "cell_type": "code",
      "execution_count": null,
      "metadata": {
        "id": "n3Lyzt4BDg8t"
      },
      "outputs": [],
      "source": [
        "depths = [3,4,5]\n",
        "widths = [128,256,512]\n",
        "lrs = [1e-4, 2e-4, 1e-3]\n",
        "T = 5\n",
        "\n",
        "epochs = 1001\n",
        "\n",
        "for t in range(T):\n",
        "  for d in depths:\n",
        "    for h in widths:\n",
        "      for lr in lrs:\n",
        "        model_gnn = GNN(4,4,d,h,arch=\"Transformer\").to('cuda')\n",
        "\n",
        "\n",
        "        optimizer_gnn = torch.optim.Adam(model_gnn.parameters(), lr = lr)\n",
        "        scheduler_gnn = torch.optim.lr_scheduler.CosineAnnealingLR(optimizer_gnn, epochs)\n",
        "\n",
        "        for i in tqdm(range(epochs)):\n",
        "          for data in train_loader_gnn_full:\n",
        "            optimizer_gnn.zero_grad()\n",
        "            data = data.to('cuda')\n",
        "            Y_pred = model_gnn(data.x, data.edge_index, data.batch)\n",
        "            loss = torch.nn.functional.mse_loss(Y_pred, data.y)\n",
        "            loss.backward()\n",
        "            optimizer_gnn.step()\n",
        "          if i % 100 == 0:\n",
        "            torch.save(model_gnn,\"drive/MyDrive/MeasureMaps/GNN/TransformerConv Full/trial-\"+str(t)+\"-depth-\"+str(d)+\"-width-\"+str(h)+\"-lr-\"+str(lr)+\"-epoch-\"+str(i)+\".pt\")\n",
        "          scheduler_gnn.step()"
      ]
    },
    {
      "cell_type": "code",
      "execution_count": null,
      "metadata": {
        "id": "OQwIy3vQDg41"
      },
      "outputs": [],
      "source": [
        "depths = [3,4,5]\n",
        "widths = [128,256,512]\n",
        "lrs = [1e-4, 2e-4, 1e-3]\n",
        "T = 5\n",
        "\n",
        "epochs = 1001\n",
        "\n",
        "for t in range(T):\n",
        "  for d in depths:\n",
        "    for h in widths:\n",
        "      for lr in lrs:\n",
        "        model_gnn = GNN(4,4,d,h,arch=\"Transformer\").to('cuda')\n",
        "\n",
        "\n",
        "        optimizer_gnn = torch.optim.Adam(model_gnn.parameters(), lr = lr)\n",
        "        scheduler_gnn = torch.optim.lr_scheduler.CosineAnnealingLR(optimizer_gnn, epochs)\n",
        "\n",
        "        for i in tqdm(range(epochs)):\n",
        "          for data in train_loader_gnn_knn:\n",
        "            optimizer_gnn.zero_grad()\n",
        "            data = data.to('cuda')\n",
        "            Y_pred = model_gnn(data.x, data.edge_index, data.batch)\n",
        "            loss = torch.nn.functional.mse_loss(Y_pred, data.y)\n",
        "            loss.backward()\n",
        "            optimizer_gnn.step()\n",
        "          if i % 100 == 0:\n",
        "            torch.save(model_gnn,\"drive/MyDrive/MeasureMaps/GNN/TransformerConv KNN/trial-\"+str(t)+\"-depth-\"+str(d)+\"-width-\"+str(h)+\"-lr-\"+str(lr)+\"-epoch-\"+str(i)+\".pt\")\n",
        "          scheduler_gnn.step()"
      ]
    },
    {
      "cell_type": "markdown",
      "metadata": {
        "id": "gUMRTmNvEUJz"
      },
      "source": [
        "# Testing Models"
      ]
    },
    {
      "cell_type": "code",
      "execution_count": null,
      "metadata": {
        "colab": {
          "base_uri": "https://localhost:8080/"
        },
        "id": "tChIUUC3Dg0D",
        "outputId": "06135e27-a840-468d-9838-453b74fe8ca3"
      },
      "outputs": [
        {
          "name": "stderr",
          "output_type": "stream",
          "text": [
            "<ipython-input-29-b9586dbbda54>:1: FutureWarning: You are using `torch.load` with `weights_only=False` (the current default value), which uses the default pickle module implicitly. It is possible to construct malicious pickle data which will execute arbitrary code during unpickling (See https://github.com/pytorch/pytorch/blob/main/SECURITY.md#untrusted-models for more details). In a future release, the default value for `weights_only` will be flipped to `True`. This limits the functions that could be executed during unpickling. Arbitrary objects will no longer be allowed to be loaded via this mode unless they are explicitly allowlisted by the user via `torch.serialization.add_safe_globals`. We recommend you start setting `weights_only=True` for any use case where you don't have full control of the loaded file. Please open an issue on GitHub for any issues related to this experimental feature.\n",
            "  Xtrn, Ytrn = torch.load(\"drive/MyDrive/MeasureMaps/data-cucker-2.pt\")\n",
            "<ipython-input-29-b9586dbbda54>:2: FutureWarning: You are using `torch.load` with `weights_only=False` (the current default value), which uses the default pickle module implicitly. It is possible to construct malicious pickle data which will execute arbitrary code during unpickling (See https://github.com/pytorch/pytorch/blob/main/SECURITY.md#untrusted-models for more details). In a future release, the default value for `weights_only` will be flipped to `True`. This limits the functions that could be executed during unpickling. Arbitrary objects will no longer be allowed to be loaded via this mode unless they are explicitly allowlisted by the user via `torch.serialization.add_safe_globals`. We recommend you start setting `weights_only=True` for any use case where you don't have full control of the loaded file. Please open an issue on GitHub for any issues related to this experimental feature.\n",
            "  idxes = torch.load(\"drive/MyDrive/MeasureMaps/Cucker-data-split.pt\")\n"
          ]
        }
      ],
      "source": [
        "Xtrn, Ytrn = torch.load(\"drive/MyDrive/MeasureMaps/data-cucker-2.pt\")\n",
        "idxes = torch.load(\"drive/MyDrive/MeasureMaps/Cucker-data-split.pt\")"
      ]
    },
    {
      "cell_type": "code",
      "execution_count": null,
      "metadata": {
        "colab": {
          "base_uri": "https://localhost:8080/"
        },
        "id": "0-FSGBLiDgsN",
        "outputId": "5cfd78f6-da07-4cf0-b938-7f573f7d1287"
      },
      "outputs": [
        {
          "name": "stdout",
          "output_type": "stream",
          "text": [
            "torch.Size([1684]) torch.Size([1683])\n"
          ]
        }
      ],
      "source": [
        "N = Xtrn.shape[0]\n",
        "val_idx = idxes[1]\n",
        "test_idx = idxes[2]\n",
        "print(val_idx.shape, test_idx.shape)"
      ]
    },
    {
      "cell_type": "code",
      "execution_count": null,
      "metadata": {
        "id": "AM_SYhhDDgjo"
      },
      "outputs": [],
      "source": [
        "val_data = torch.utils.data.TensorDataset(Xtrn[val_idx,:], Ytrn[val_idx,:,:])\n",
        "val_loader = torch.utils.data.DataLoader(val_data, shuffle = True, batch_size=421)\n",
        "\n",
        "test_data = torch.utils.data.TensorDataset(Xtrn[test_idx,:], Ytrn[test_idx,:,:])\n",
        "test_loader = torch.utils.data.DataLoader(test_data, shuffle = True, batch_size=421)"
      ]
    },
    {
      "cell_type": "code",
      "execution_count": null,
      "metadata": {
        "id": "H9YggsbgDgfS"
      },
      "outputs": [],
      "source": [
        "def test_transformer_fnn_cs(model, loader):\n",
        "  N = 4\n",
        "  loss = torch.zeros(N)\n",
        "  model.eval()\n",
        "  i = 0\n",
        "  for X,Y in loader:\n",
        "    X = X.to('cuda')\n",
        "    Y = Y.to('cuda')\n",
        "    Y_pred = model(X)\n",
        "    loss[i] = torch.nn.functional.mse_loss(Y_pred, Y).cpu().detach()\n",
        "  return loss"
      ]
    },
    {
      "cell_type": "code",
      "execution_count": null,
      "metadata": {
        "id": "U2NZHsr9E0Cw"
      },
      "outputs": [],
      "source": [
        "dataset_knn = data_to_GNN_data(Xtrn.to('cuda'), Ytrn.to('cuda'), 3)\n",
        "dataset_full = data_to_GNN_data(Xtrn.to('cuda'), Ytrn.to('cuda'), 20)"
      ]
    },
    {
      "cell_type": "code",
      "execution_count": null,
      "metadata": {
        "id": "9F-5uqamE4Uz"
      },
      "outputs": [],
      "source": [
        "val_loader_gnn_full = DataLoader([dataset_full[i] for i in val_idx.numpy()], shuffle = True, batch_size = 1)\n",
        "val_loader_gnn_knn = DataLoader([dataset_knn[i] for i in val_idx.numpy()], shuffle = True, batch_size = 1)\n",
        "\n",
        "test_loader_gnn_full = DataLoader([dataset_full[i] for i in test_idx.numpy()], shuffle = True, batch_size = 1)\n",
        "test_loader_gnn_knn = DataLoader([dataset_knn[i] for i in test_idx.numpy()], shuffle = True, batch_size = 1)"
      ]
    },
    {
      "cell_type": "code",
      "execution_count": null,
      "metadata": {
        "colab": {
          "base_uri": "https://localhost:8080/"
        },
        "id": "omeGdQXFE_kk",
        "outputId": "50bfa388-d99b-4483-c187-cc6018ed640f"
      },
      "outputs": [
        {
          "name": "stdout",
          "output_type": "stream",
          "text": [
            "Testing:  3 128 0.0002\n"
          ]
        },
        {
          "name": "stderr",
          "output_type": "stream",
          "text": [
            "<ipython-input-37-96cea253544d>:17: FutureWarning: You are using `torch.load` with `weights_only=False` (the current default value), which uses the default pickle module implicitly. It is possible to construct malicious pickle data which will execute arbitrary code during unpickling (See https://github.com/pytorch/pytorch/blob/main/SECURITY.md#untrusted-models for more details). In a future release, the default value for `weights_only` will be flipped to `True`. This limits the functions that could be executed during unpickling. Arbitrary objects will no longer be allowed to be loaded via this mode unless they are explicitly allowlisted by the user via `torch.serialization.add_safe_globals`. We recommend you start setting `weights_only=True` for any use case where you don't have full control of the loaded file. Please open an issue on GitHub for any issues related to this experimental feature.\n",
            "  model = torch.load(\"drive/MyDrive/MeasureMaps/FNN/trial-\"+str(t)+\"-depth-\"+str(d)+\"-width-\"+str(h)+\"-lr-\"+str(lr)+\"-epoch-1000.pt\")\n"
          ]
        },
        {
          "name": "stdout",
          "output_type": "stream",
          "text": [
            "tensor(2.1363e-05)\n",
            "tensor(2.1230e-05)\n",
            "tensor(2.1030e-05)\n",
            "tensor(2.0713e-05)\n",
            "tensor(2.2510e-05)\n",
            "Testing:  3 128 0.001\n",
            "tensor(2.3446e-05)\n",
            "tensor(1.9242e-05)\n",
            "tensor(2.0489e-05)\n",
            "tensor(2.1375e-05)\n",
            "tensor(2.1616e-05)\n",
            "Testing:  3 128 0.0001\n",
            "tensor(2.1151e-05)\n",
            "tensor(2.2673e-05)\n",
            "tensor(2.0938e-05)\n",
            "tensor(2.0582e-05)\n",
            "tensor(2.4527e-05)\n",
            "Testing:  3 256 0.0002\n",
            "tensor(1.8158e-05)\n",
            "tensor(1.8104e-05)\n",
            "tensor(1.6645e-05)\n",
            "tensor(1.7716e-05)\n",
            "tensor(1.6924e-05)\n",
            "Testing:  3 256 0.001\n",
            "tensor(1.6937e-05)\n",
            "tensor(1.6155e-05)\n",
            "tensor(1.6524e-05)\n",
            "tensor(1.5239e-05)\n",
            "tensor(1.7330e-05)\n",
            "Testing:  3 256 0.0001\n",
            "tensor(1.7923e-05)\n",
            "tensor(1.9017e-05)\n",
            "tensor(1.7124e-05)\n",
            "tensor(1.7812e-05)\n",
            "tensor(1.7269e-05)\n",
            "Testing:  3 512 0.0002\n",
            "tensor(1.3897e-05)\n",
            "tensor(1.4825e-05)\n",
            "tensor(1.5301e-05)\n",
            "tensor(1.2498e-05)\n",
            "tensor(1.5064e-05)\n",
            "Testing:  3 512 0.001\n",
            "tensor(7.9684e-06)\n",
            "tensor(8.9309e-06)\n",
            "tensor(9.9711e-06)\n",
            "tensor(8.9639e-06)\n",
            "tensor(9.2344e-06)\n",
            "Testing:  3 512 0.0001\n",
            "tensor(1.5717e-05)\n",
            "tensor(1.4820e-05)\n",
            "tensor(1.4496e-05)\n",
            "tensor(1.5355e-05)\n",
            "tensor(1.4534e-05)\n",
            "Testing:  4 128 0.0002\n",
            "tensor(2.4220e-05)\n",
            "tensor(2.2337e-05)\n",
            "tensor(2.2729e-05)\n",
            "tensor(2.2692e-05)\n",
            "tensor(2.2605e-05)\n",
            "Testing:  4 128 0.001\n",
            "tensor(2.1343e-05)\n",
            "tensor(2.2841e-05)\n",
            "tensor(2.0358e-05)\n",
            "tensor(2.2191e-05)\n",
            "tensor(2.1153e-05)\n",
            "Testing:  4 128 0.0001\n",
            "tensor(2.5325e-05)\n",
            "tensor(4.0828e-05)\n",
            "tensor(2.2388e-05)\n",
            "tensor(4.2881e-05)\n",
            "tensor(2.5570e-05)\n",
            "Testing:  4 256 0.0002\n",
            "tensor(1.7748e-05)\n",
            "tensor(1.9056e-05)\n",
            "tensor(1.9428e-05)\n",
            "tensor(1.8145e-05)\n",
            "tensor(1.8619e-05)\n",
            "Testing:  4 256 0.001\n",
            "tensor(1.9417e-05)\n",
            "tensor(1.6007e-05)\n",
            "tensor(1.7868e-05)\n",
            "tensor(1.8595e-05)\n",
            "tensor(1.5522e-05)\n",
            "Testing:  4 256 0.0001\n",
            "tensor(2.2210e-05)\n",
            "tensor(2.0395e-05)\n",
            "tensor(1.9319e-05)\n",
            "tensor(1.9804e-05)\n",
            "tensor(1.8622e-05)\n",
            "Testing:  4 512 0.0002\n",
            "tensor(1.3585e-05)\n",
            "tensor(1.2253e-05)\n",
            "tensor(1.3984e-05)\n",
            "tensor(1.3964e-05)\n",
            "tensor(1.3988e-05)\n",
            "Testing:  4 512 0.001\n",
            "tensor(9.4183e-06)\n",
            "tensor(7.6555e-06)\n",
            "tensor(8.3843e-06)\n",
            "tensor(8.2112e-06)\n",
            "tensor(9.6162e-06)\n",
            "Testing:  4 512 0.0001\n",
            "tensor(1.5413e-05)\n",
            "tensor(1.2553e-05)\n",
            "tensor(1.4389e-05)\n",
            "tensor(1.5433e-05)\n",
            "tensor(1.6549e-05)\n",
            "Testing:  5 128 0.0002\n",
            "tensor(0.0002)\n",
            "tensor(9.4465e-05)\n",
            "tensor(8.0027e-05)\n",
            "tensor(0.0002)\n",
            "tensor(0.0002)\n",
            "Testing:  5 128 0.001\n",
            "tensor(2.5414e-05)\n",
            "tensor(2.5148e-05)\n",
            "tensor(3.3286e-05)\n",
            "tensor(2.9195e-05)\n",
            "tensor(2.8470e-05)\n",
            "Testing:  5 128 0.0001\n",
            "tensor(0.0004)\n",
            "tensor(0.0005)\n",
            "tensor(0.0005)\n",
            "tensor(0.0007)\n",
            "tensor(0.0005)\n",
            "Testing:  5 256 0.0002\n",
            "tensor(2.1873e-05)\n",
            "tensor(1.8334e-05)\n",
            "tensor(2.0317e-05)\n",
            "tensor(2.0118e-05)\n",
            "tensor(1.8865e-05)\n",
            "Testing:  5 256 0.001\n",
            "tensor(1.7663e-05)\n",
            "tensor(2.0368e-05)\n",
            "tensor(1.9113e-05)\n",
            "tensor(1.6066e-05)\n",
            "tensor(1.8282e-05)\n",
            "Testing:  5 256 0.0001\n",
            "tensor(2.0775e-05)\n",
            "tensor(2.0111e-05)\n",
            "tensor(2.0507e-05)\n",
            "tensor(1.9819e-05)\n",
            "tensor(2.0677e-05)\n",
            "Testing:  5 512 0.0002\n",
            "tensor(1.4547e-05)\n",
            "tensor(1.4646e-05)\n",
            "tensor(1.4654e-05)\n",
            "tensor(1.3837e-05)\n",
            "tensor(1.4070e-05)\n",
            "Testing:  5 512 0.001\n",
            "tensor(7.6955e-06)\n",
            "tensor(6.8682e-06)\n",
            "tensor(6.3320e-06)\n",
            "tensor(5.7485e-06)\n",
            "tensor(7.2703e-06)\n",
            "Testing:  5 512 0.0001\n",
            "tensor(1.6398e-05)\n",
            "tensor(1.6188e-05)\n",
            "tensor(1.5647e-05)\n",
            "tensor(1.6095e-05)\n",
            "tensor(1.5516e-05)\n",
            "tensor(7.2703e-06) 5 512 0.001\n"
          ]
        }
      ],
      "source": [
        "depths = [3,4,5]\n",
        "widths = [128,256,512]\n",
        "lrs = [2e-4, 1e-3, 1e-4]\n",
        "T = 5\n",
        "\n",
        "best_loss = 100000\n",
        "best_d = -1\n",
        "best_w = -1\n",
        "best_lr = -1\n",
        "\n",
        "for d in depths: # depth\n",
        "  for h in widths: # width\n",
        "    for lr in lrs:\n",
        "      avg_loss = 0\n",
        "      print(\"Testing: \",d,h,lr)\n",
        "      for t in range(T):\n",
        "        model = torch.load(\"drive/MyDrive/MeasureMaps/FNN/trial-\"+str(t)+\"-depth-\"+str(d)+\"-width-\"+str(h)+\"-lr-\"+str(lr)+\"-epoch-1000.pt\")\n",
        "        loss = test_transformer_fnn_cs(model, val_loader)\n",
        "        avg_loss = loss.mean()\n",
        "        print(avg_loss)\n",
        "      if avg_loss < best_loss:\n",
        "        best_loss = avg_loss\n",
        "        best_d = d\n",
        "        best_w = h\n",
        "        best_lr = lr\n",
        "print(best_loss, best_d, best_w, best_lr)"
      ]
    },
    {
      "cell_type": "code",
      "execution_count": null,
      "metadata": {
        "colab": {
          "base_uri": "https://localhost:8080/"
        },
        "id": "93uZeVi1FCZj",
        "outputId": "6ffc35ba-adb4-47eb-cb7d-7f3d02e47ca8"
      },
      "outputs": [
        {
          "name": "stdout",
          "output_type": "stream",
          "text": [
            "tensor(6.8460e-06) tensor(5.0391e-07)\n"
          ]
        },
        {
          "name": "stderr",
          "output_type": "stream",
          "text": [
            "<ipython-input-38-792fd64ffe90>:4: FutureWarning: You are using `torch.load` with `weights_only=False` (the current default value), which uses the default pickle module implicitly. It is possible to construct malicious pickle data which will execute arbitrary code during unpickling (See https://github.com/pytorch/pytorch/blob/main/SECURITY.md#untrusted-models for more details). In a future release, the default value for `weights_only` will be flipped to `True`. This limits the functions that could be executed during unpickling. Arbitrary objects will no longer be allowed to be loaded via this mode unless they are explicitly allowlisted by the user via `torch.serialization.add_safe_globals`. We recommend you start setting `weights_only=True` for any use case where you don't have full control of the loaded file. Please open an issue on GitHub for any issues related to this experimental feature.\n",
            "  model = torch.load(\"drive/MyDrive/MeasureMaps/FNN/trial-\"+str(t)+\"-depth-\"+str(best_d)+\"-width-\"+str(best_w)+\"-lr-\"+str(best_lr)+\"-epoch-1000.pt\")\n"
          ]
        }
      ],
      "source": [
        "loss_avg = torch.zeros(5)\n",
        "loss_std = torch.zeros(5)\n",
        "for t in range(T):\n",
        "  model = torch.load(\"drive/MyDrive/MeasureMaps/FNN/trial-\"+str(t)+\"-depth-\"+str(best_d)+\"-width-\"+str(best_w)+\"-lr-\"+str(best_lr)+\"-epoch-1000.pt\")\n",
        "  loss = test_transformer_fnn_cs(model, test_loader)\n",
        "  loss_avg[t] = loss.mean()\n",
        "  loss_std[t] = loss.std()\n",
        "print(loss_avg.mean(), loss_avg.std())"
      ]
    },
    {
      "cell_type": "code",
      "execution_count": null,
      "metadata": {
        "colab": {
          "base_uri": "https://localhost:8080/"
        },
        "id": "vk-bKGx0lAYT",
        "outputId": "e8ba5eff-713c-4151-de9b-442722d7ab3c"
      },
      "outputs": [
        {
          "name": "stdout",
          "output_type": "stream",
          "text": [
            "Testing:  3 128 0.0002\n",
            "tensor(0.0176)\n",
            "tensor(0.0181)\n",
            "tensor(0.0179)\n",
            "tensor(0.0011)\n",
            "tensor(0.0183)\n",
            "Testing:  3 128 0.001\n",
            "tensor(0.0011)\n",
            "tensor(0.0013)\n",
            "tensor(0.0011)\n",
            "tensor(0.0010)\n"
          ]
        },
        {
          "name": "stderr",
          "output_type": "stream",
          "text": [
            "<ipython-input-41-9ccd5f4c0f66>:17: FutureWarning: You are using `torch.load` with `weights_only=False` (the current default value), which uses the default pickle module implicitly. It is possible to construct malicious pickle data which will execute arbitrary code during unpickling (See https://github.com/pytorch/pytorch/blob/main/SECURITY.md#untrusted-models for more details). In a future release, the default value for `weights_only` will be flipped to `True`. This limits the functions that could be executed during unpickling. Arbitrary objects will no longer be allowed to be loaded via this mode unless they are explicitly allowlisted by the user via `torch.serialization.add_safe_globals`. We recommend you start setting `weights_only=True` for any use case where you don't have full control of the loaded file. Please open an issue on GitHub for any issues related to this experimental feature.\n",
            "  model = torch.load(\"drive/MyDrive/MeasureMaps/Cylindrical/trial-\"+str(t)+\"-depth-\"+str(d)+\"-width-\"+str(h)+\"-lr-\"+str(lr)+\"-epoch-1000.pt\")\n"
          ]
        },
        {
          "name": "stdout",
          "output_type": "stream",
          "text": [
            "tensor(0.0012)\n",
            "Testing:  3 128 0.0001\n",
            "tensor(0.0013)\n",
            "tensor(0.0181)\n",
            "tensor(0.0011)\n",
            "tensor(0.0010)\n",
            "tensor(0.0008)\n",
            "Testing:  3 256 0.0002\n",
            "tensor(0.0006)\n",
            "tensor(0.0008)\n",
            "tensor(0.0008)\n",
            "tensor(0.0017)\n",
            "tensor(0.0016)\n",
            "Testing:  3 256 0.001\n",
            "tensor(0.0012)\n",
            "tensor(0.0017)\n",
            "tensor(0.0015)\n",
            "tensor(0.0179)\n",
            "tensor(0.0011)\n",
            "Testing:  3 256 0.0001\n",
            "tensor(0.0011)\n",
            "tensor(0.0008)\n",
            "tensor(0.0008)\n",
            "tensor(0.0179)\n",
            "tensor(0.0007)\n",
            "Testing:  3 512 0.0002\n",
            "tensor(0.0011)\n",
            "tensor(0.0014)\n",
            "tensor(0.0011)\n",
            "tensor(0.0015)\n",
            "tensor(0.0011)\n",
            "Testing:  3 512 0.001\n",
            "tensor(0.0015)\n",
            "tensor(0.0011)\n",
            "tensor(0.0014)\n",
            "tensor(0.0015)\n",
            "tensor(0.0016)\n",
            "Testing:  3 512 0.0001\n",
            "tensor(0.0011)\n",
            "tensor(0.0015)\n",
            "tensor(0.0014)\n",
            "tensor(0.0016)\n",
            "tensor(0.0015)\n",
            "Testing:  4 128 0.0002\n",
            "tensor(0.0011)\n",
            "tensor(0.0015)\n",
            "tensor(0.0010)\n",
            "tensor(0.0007)\n",
            "tensor(0.0011)\n",
            "Testing:  4 128 0.001\n",
            "tensor(0.0012)\n",
            "tensor(0.0015)\n",
            "tensor(0.0015)\n",
            "tensor(0.0012)\n",
            "tensor(0.0012)\n",
            "Testing:  4 128 0.0001\n",
            "tensor(0.0173)\n",
            "tensor(0.0009)\n",
            "tensor(0.0012)\n",
            "tensor(0.0007)\n",
            "tensor(0.0007)\n",
            "Testing:  4 256 0.0002\n",
            "tensor(0.0008)\n",
            "tensor(0.0017)\n",
            "tensor(0.0012)\n",
            "tensor(0.0008)\n",
            "tensor(0.0180)\n",
            "Testing:  4 256 0.001\n",
            "tensor(0.0012)\n",
            "tensor(0.0015)\n",
            "tensor(0.0012)\n",
            "tensor(0.0010)\n",
            "tensor(0.0011)\n",
            "Testing:  4 256 0.0001\n",
            "tensor(0.0015)\n",
            "tensor(0.0012)\n",
            "tensor(0.0011)\n",
            "tensor(0.0180)\n",
            "tensor(0.0180)\n",
            "Testing:  4 512 0.0002\n",
            "tensor(0.0016)\n",
            "tensor(0.0016)\n",
            "tensor(0.0012)\n",
            "tensor(0.0015)\n",
            "tensor(0.0015)\n",
            "Testing:  4 512 0.001\n",
            "tensor(0.0014)\n",
            "tensor(0.0017)\n",
            "tensor(0.0012)\n",
            "tensor(0.0012)\n",
            "tensor(0.0016)\n",
            "Testing:  4 512 0.0001\n",
            "tensor(0.0011)\n",
            "tensor(0.0182)\n",
            "tensor(0.0353)\n",
            "tensor(0.0180)\n",
            "tensor(0.0183)\n",
            "Testing:  5 128 0.0002\n",
            "tensor(0.0011)\n",
            "tensor(0.0181)\n",
            "tensor(0.0177)\n",
            "tensor(0.0008)\n",
            "tensor(0.0015)\n",
            "Testing:  5 128 0.001\n",
            "tensor(0.0011)\n",
            "tensor(0.0011)\n",
            "tensor(0.0013)\n",
            "tensor(0.0007)\n",
            "tensor(0.0014)\n",
            "Testing:  5 128 0.0001\n",
            "tensor(0.0007)\n",
            "tensor(0.0008)\n",
            "tensor(0.0012)\n",
            "tensor(0.0347)\n",
            "tensor(0.0012)\n",
            "Testing:  5 256 0.0002\n",
            "tensor(0.0009)\n",
            "tensor(0.0175)\n",
            "tensor(0.0012)\n",
            "tensor(0.0008)\n",
            "tensor(0.0182)\n",
            "Testing:  5 256 0.001\n",
            "tensor(0.0007)\n",
            "tensor(0.0010)\n",
            "tensor(0.0011)\n",
            "tensor(0.0014)\n",
            "tensor(0.0016)\n",
            "Testing:  5 256 0.0001\n",
            "tensor(0.0015)\n",
            "tensor(0.0011)\n",
            "tensor(0.0012)\n",
            "tensor(0.0016)\n",
            "tensor(0.0014)\n",
            "Testing:  5 512 0.0002\n",
            "tensor(0.0008)\n",
            "tensor(0.0017)\n",
            "tensor(0.0011)\n",
            "tensor(0.0358)\n",
            "tensor(0.0017)\n",
            "Testing:  5 512 0.001\n",
            "tensor(0.0015)\n",
            "tensor(0.0016)\n",
            "tensor(0.0015)\n",
            "tensor(0.0012)\n",
            "tensor(0.0011)\n",
            "Testing:  5 512 0.0001\n",
            "tensor(0.0011)\n",
            "tensor(0.0011)\n",
            "tensor(0.0015)\n",
            "tensor(0.0007)\n",
            "tensor(0.0007)\n",
            "tensor(0.0007) 5 512 0.0001\n"
          ]
        }
      ],
      "source": [
        "depths = [3,4,5]\n",
        "widths = [128,256,512]\n",
        "lrs = [2e-4, 1e-3, 1e-4]\n",
        "T = 5\n",
        "\n",
        "best_loss = 100000\n",
        "best_d = -1\n",
        "best_w = -1\n",
        "best_lr = -1\n",
        "\n",
        "for d in depths: # depth\n",
        "  for h in widths: # width\n",
        "    for lr in lrs:\n",
        "      avg_loss = 0\n",
        "      print(\"Testing: \",d,h,lr)\n",
        "      for t in range(T):\n",
        "        model = torch.load(\"drive/MyDrive/MeasureMaps/Cylindrical/trial-\"+str(t)+\"-depth-\"+str(d)+\"-width-\"+str(h)+\"-lr-\"+str(lr)+\"-epoch-1000.pt\")\n",
        "        loss = test_transformer_fnn_cs(model, val_loader)\n",
        "        avg_loss = loss.mean()\n",
        "        print(avg_loss)\n",
        "      if avg_loss < best_loss:\n",
        "        best_loss = avg_loss\n",
        "        best_d = d\n",
        "        best_w = h\n",
        "        best_lr = lr\n",
        "print(best_loss, best_d, best_w, best_lr)"
      ]
    },
    {
      "cell_type": "code",
      "execution_count": null,
      "metadata": {
        "colab": {
          "base_uri": "https://localhost:8080/"
        },
        "id": "c5mdjOntlAYb",
        "outputId": "056c41c0-72ca-4a44-92f2-c757547928ec"
      },
      "outputs": [
        {
          "name": "stdout",
          "output_type": "stream",
          "text": [
            "tensor(0.0011) tensor(0.0004)\n"
          ]
        },
        {
          "name": "stderr",
          "output_type": "stream",
          "text": [
            "<ipython-input-42-ab4b33ff4b7a>:4: FutureWarning: You are using `torch.load` with `weights_only=False` (the current default value), which uses the default pickle module implicitly. It is possible to construct malicious pickle data which will execute arbitrary code during unpickling (See https://github.com/pytorch/pytorch/blob/main/SECURITY.md#untrusted-models for more details). In a future release, the default value for `weights_only` will be flipped to `True`. This limits the functions that could be executed during unpickling. Arbitrary objects will no longer be allowed to be loaded via this mode unless they are explicitly allowlisted by the user via `torch.serialization.add_safe_globals`. We recommend you start setting `weights_only=True` for any use case where you don't have full control of the loaded file. Please open an issue on GitHub for any issues related to this experimental feature.\n",
            "  model = torch.load(\"drive/MyDrive/MeasureMaps/Cylindrical/trial-\"+str(t)+\"-depth-\"+str(best_d)+\"-width-\"+str(best_w)+\"-lr-\"+str(best_lr)+\"-epoch-1000.pt\")\n"
          ]
        }
      ],
      "source": [
        "loss_avg = torch.zeros(5)\n",
        "loss_std = torch.zeros(5)\n",
        "for t in range(T):\n",
        "  model = torch.load(\"drive/MyDrive/MeasureMaps/Cylindrical/trial-\"+str(t)+\"-depth-\"+str(best_d)+\"-width-\"+str(best_w)+\"-lr-\"+str(best_lr)+\"-epoch-1000.pt\")\n",
        "  loss = test_transformer_fnn_cs(model, test_loader)\n",
        "  loss_avg[t] = loss.mean()\n",
        "  loss_std[t] = loss.std()\n",
        "print(loss_avg.mean(), loss_avg.std())"
      ]
    },
    {
      "cell_type": "code",
      "execution_count": null,
      "metadata": {
        "colab": {
          "base_uri": "https://localhost:8080/"
        },
        "id": "pI0xTsUSlBlW",
        "outputId": "882ed9b0-7b68-4d01-c0c7-73fe17cb0e2b"
      },
      "outputs": [
        {
          "name": "stdout",
          "output_type": "stream",
          "text": [
            "Testing:  3 128 0.0002\n"
          ]
        },
        {
          "name": "stderr",
          "output_type": "stream",
          "text": [
            "<ipython-input-39-8886248ee820>:17: FutureWarning: You are using `torch.load` with `weights_only=False` (the current default value), which uses the default pickle module implicitly. It is possible to construct malicious pickle data which will execute arbitrary code during unpickling (See https://github.com/pytorch/pytorch/blob/main/SECURITY.md#untrusted-models for more details). In a future release, the default value for `weights_only` will be flipped to `True`. This limits the functions that could be executed during unpickling. Arbitrary objects will no longer be allowed to be loaded via this mode unless they are explicitly allowlisted by the user via `torch.serialization.add_safe_globals`. We recommend you start setting `weights_only=True` for any use case where you don't have full control of the loaded file. Please open an issue on GitHub for any issues related to this experimental feature.\n",
            "  model = torch.load(\"drive/MyDrive/MeasureMaps/Transformer/trial-\"+str(t)+\"-depth-\"+str(d)+\"-width-\"+str(h)+\"-lr-\"+str(lr)+\"-epoch-1000.pt\")\n"
          ]
        },
        {
          "name": "stdout",
          "output_type": "stream",
          "text": [
            "tensor(5.2892e-06)\n",
            "tensor(2.3748e-06)\n",
            "tensor(4.6765e-06)\n",
            "tensor(5.5105e-06)\n",
            "tensor(5.7769e-06)\n",
            "Testing:  3 128 0.001\n",
            "tensor(6.5881e-06)\n",
            "tensor(5.0327e-06)\n",
            "tensor(5.3223e-06)\n",
            "tensor(4.8519e-06)\n",
            "tensor(5.0552e-06)\n",
            "Testing:  3 128 0.0001\n",
            "tensor(6.9695e-06)\n",
            "tensor(7.5448e-06)\n",
            "tensor(7.4468e-06)\n",
            "tensor(5.7960e-06)\n",
            "tensor(6.6154e-06)\n",
            "Testing:  3 256 0.0002\n",
            "tensor(5.4048e-06)\n",
            "tensor(4.9082e-06)\n",
            "tensor(5.6083e-06)\n",
            "tensor(4.9279e-06)\n",
            "tensor(4.8404e-06)\n",
            "Testing:  3 256 0.001\n",
            "tensor(0.0001)\n",
            "tensor(0.0001)\n",
            "tensor(0.0001)\n",
            "tensor(0.0001)\n",
            "tensor(0.0001)\n",
            "Testing:  3 256 0.0001\n",
            "tensor(5.1952e-06)\n",
            "tensor(2.5160e-06)\n",
            "tensor(5.9744e-06)\n",
            "tensor(5.4704e-06)\n",
            "tensor(5.2759e-06)\n",
            "Testing:  3 512 0.0002\n",
            "tensor(6.9697e-06)\n",
            "tensor(6.4950e-06)\n",
            "tensor(4.4270e-06)\n",
            "tensor(5.2333e-06)\n",
            "tensor(4.4260e-06)\n",
            "Testing:  3 512 0.001\n",
            "tensor(2.7812)\n",
            "tensor(0.4395)\n",
            "tensor(1.1945)\n",
            "tensor(0.1425)\n",
            "tensor(395.5543)\n",
            "Testing:  3 512 0.0001\n",
            "tensor(4.7010e-06)\n",
            "tensor(2.2929e-06)\n",
            "tensor(2.2241e-06)\n",
            "tensor(2.8280e-06)\n",
            "tensor(4.7464e-06)\n",
            "Testing:  4 128 0.0002\n",
            "tensor(2.6699e-06)\n",
            "tensor(2.0416e-06)\n",
            "tensor(3.4198e-06)\n",
            "tensor(4.9074e-06)\n",
            "tensor(2.5428e-06)\n",
            "Testing:  4 128 0.001\n",
            "tensor(5.1281e-06)\n",
            "tensor(4.9702e-06)\n",
            "tensor(8.1037e-06)\n",
            "tensor(7.5370e-06)\n",
            "tensor(2.7397e-06)\n",
            "Testing:  4 128 0.0001\n",
            "tensor(4.4547e-06)\n",
            "tensor(5.0979e-06)\n",
            "tensor(5.5147e-06)\n",
            "tensor(5.4134e-06)\n",
            "tensor(4.3074e-06)\n",
            "Testing:  4 256 0.0002\n",
            "tensor(2.5115e-06)\n",
            "tensor(4.3064e-06)\n",
            "tensor(2.1998e-06)\n",
            "tensor(3.5682e-06)\n",
            "tensor(2.0200e-06)\n",
            "Testing:  4 256 0.001\n",
            "tensor(0.0002)\n",
            "tensor(0.0027)\n",
            "tensor(0.0074)\n",
            "tensor(0.0001)\n",
            "tensor(0.0003)\n",
            "Testing:  4 256 0.0001\n",
            "tensor(2.9939e-06)\n",
            "tensor(1.9003e-06)\n",
            "tensor(4.4224e-06)\n",
            "tensor(2.1576e-06)\n",
            "tensor(2.1132e-06)\n",
            "Testing:  4 512 0.0002\n",
            "tensor(3.7216e-06)\n",
            "tensor(4.7143e-06)\n",
            "tensor(6.2505e-06)\n",
            "tensor(5.7917e-06)\n",
            "tensor(6.0087e-06)\n",
            "Testing:  4 512 0.001\n",
            "tensor(281.0218)\n",
            "tensor(28700.3066)\n",
            "tensor(15790156.)\n",
            "tensor(4670287.5000)\n",
            "tensor(15.2240)\n",
            "Testing:  4 512 0.0001\n",
            "tensor(3.7913e-06)\n",
            "tensor(2.1903e-06)\n",
            "tensor(2.1740e-06)\n",
            "tensor(3.9174e-06)\n",
            "tensor(3.0172e-06)\n",
            "Testing:  5 128 0.0002\n",
            "tensor(2.1507e-06)\n",
            "tensor(2.7782e-06)\n",
            "tensor(3.2491e-06)\n",
            "tensor(3.9618e-06)\n",
            "tensor(3.3070e-06)\n",
            "Testing:  5 128 0.001\n",
            "tensor(4.9938e-06)\n",
            "tensor(5.6191e-06)\n",
            "tensor(5.3287e-06)\n",
            "tensor(3.5942e-06)\n",
            "tensor(4.3554e-06)\n",
            "Testing:  5 128 0.0001\n",
            "tensor(4.0342e-06)\n",
            "tensor(3.2072e-06)\n",
            "tensor(3.5437e-06)\n",
            "tensor(3.0257e-06)\n",
            "tensor(4.7054e-06)\n",
            "Testing:  5 256 0.0002\n",
            "tensor(1.9926e-06)\n",
            "tensor(1.5911e-06)\n",
            "tensor(2.1715e-06)\n",
            "tensor(1.7093e-06)\n",
            "tensor(2.2953e-06)\n",
            "Testing:  5 256 0.001\n",
            "tensor(0.0002)\n",
            "tensor(0.0133)\n",
            "tensor(0.0013)\n",
            "tensor(0.0169)\n",
            "tensor(0.0005)\n",
            "Testing:  5 256 0.0001\n",
            "tensor(2.5647e-06)\n",
            "tensor(2.3635e-06)\n",
            "tensor(2.9886e-06)\n",
            "tensor(3.5389e-06)\n",
            "tensor(3.9678e-06)\n",
            "Testing:  5 512 0.0002\n",
            "tensor(2.7224e-06)\n",
            "tensor(5.3110e-06)\n",
            "tensor(2.6495e-06)\n",
            "tensor(5.8200e-06)\n",
            "tensor(3.9033e-06)\n",
            "Testing:  5 512 0.001\n",
            "tensor(33937344.)\n",
            "tensor(656.1589)\n",
            "tensor(3863.3877)\n",
            "tensor(2.4672e+08)\n",
            "tensor(nan)\n",
            "Testing:  5 512 0.0001\n",
            "tensor(2.1409e-06)\n",
            "tensor(1.7214e-06)\n",
            "tensor(1.8719e-06)\n",
            "tensor(3.8292e-06)\n",
            "tensor(2.1275e-06)\n",
            "tensor(2.0200e-06) 4 256 0.0002\n"
          ]
        }
      ],
      "source": [
        "depths = [3,4,5]\n",
        "widths = [128,256,512]\n",
        "lrs = [2e-4, 1e-3, 1e-4]\n",
        "T = 5\n",
        "\n",
        "best_loss = 100000\n",
        "best_d = -1\n",
        "best_w = -1\n",
        "best_lr = -1\n",
        "\n",
        "for d in depths: # depth\n",
        "  for h in widths: # width\n",
        "    for lr in lrs:\n",
        "      avg_loss = 0\n",
        "      print(\"Testing: \",d,h,lr)\n",
        "      for t in range(T):\n",
        "        model = torch.load(\"drive/MyDrive/MeasureMaps/Transformer/trial-\"+str(t)+\"-depth-\"+str(d)+\"-width-\"+str(h)+\"-lr-\"+str(lr)+\"-epoch-1000.pt\")\n",
        "        loss = test_transformer_fnn_cs(model, val_loader)\n",
        "        avg_loss = loss.mean()\n",
        "        print(avg_loss)\n",
        "      if avg_loss < best_loss:\n",
        "        best_loss = avg_loss\n",
        "        best_d = d\n",
        "        best_w = h\n",
        "        best_lr = lr\n",
        "print(best_loss, best_d, best_w, best_lr)"
      ]
    },
    {
      "cell_type": "code",
      "execution_count": null,
      "metadata": {
        "colab": {
          "base_uri": "https://localhost:8080/"
        },
        "id": "Cixj0CVhlBld",
        "outputId": "124136e8-5409-46fa-cb57-3f33728fd11c"
      },
      "outputs": [
        {
          "name": "stderr",
          "output_type": "stream",
          "text": [
            "<ipython-input-40-cb5840bb86f8>:4: FutureWarning: You are using `torch.load` with `weights_only=False` (the current default value), which uses the default pickle module implicitly. It is possible to construct malicious pickle data which will execute arbitrary code during unpickling (See https://github.com/pytorch/pytorch/blob/main/SECURITY.md#untrusted-models for more details). In a future release, the default value for `weights_only` will be flipped to `True`. This limits the functions that could be executed during unpickling. Arbitrary objects will no longer be allowed to be loaded via this mode unless they are explicitly allowlisted by the user via `torch.serialization.add_safe_globals`. We recommend you start setting `weights_only=True` for any use case where you don't have full control of the loaded file. Please open an issue on GitHub for any issues related to this experimental feature.\n",
            "  model = torch.load(\"drive/MyDrive/MeasureMaps/Transformer/trial-\"+str(t)+\"-depth-\"+str(best_d)+\"-width-\"+str(best_w)+\"-lr-\"+str(best_lr)+\"-epoch-1000.pt\")\n"
          ]
        },
        {
          "name": "stdout",
          "output_type": "stream",
          "text": [
            "tensor(2.8703e-06) tensor(1.2511e-06)\n"
          ]
        }
      ],
      "source": [
        "loss_avg = torch.zeros(5)\n",
        "loss_std = torch.zeros(5)\n",
        "for t in range(T):\n",
        "  model = torch.load(\"drive/MyDrive/MeasureMaps/Transformer/trial-\"+str(t)+\"-depth-\"+str(best_d)+\"-width-\"+str(best_w)+\"-lr-\"+str(best_lr)+\"-epoch-1000.pt\")\n",
        "  loss = test_transformer_fnn_cs(model, test_loader)\n",
        "  loss_avg[t] = loss.mean()\n",
        "  loss_std[t] = loss.std()\n",
        "print(loss_avg.mean(), loss_avg.std())"
      ]
    },
    {
      "cell_type": "code",
      "execution_count": null,
      "metadata": {
        "id": "GQ7wJCX_FVO-"
      },
      "outputs": [],
      "source": [
        "def test_GNN(model, loader):\n",
        "  N = len(loader)\n",
        "  loss = torch.zeros(N)\n",
        "  model.eval()\n",
        "  i = 0\n",
        "  for data in loader:\n",
        "    data = data.to('cuda')\n",
        "    Y_pred = model(data.x, data.edge_index, data.batch)\n",
        "    loss[i] = torch.nn.functional.mse_loss(Y_pred, data.y).cpu().detach()\n",
        "    i += 1\n",
        "  return loss"
      ]
    },
    {
      "cell_type": "code",
      "execution_count": null,
      "metadata": {
        "colab": {
          "base_uri": "https://localhost:8080/"
        },
        "id": "mtZZdhJ7FM-H",
        "outputId": "b02c96b7-3b25-4a4b-c2d5-0d4ee717ce4a"
      },
      "outputs": [
        {
          "name": "stdout",
          "output_type": "stream",
          "text": [
            "Testing:  3 128 0.0002\n"
          ]
        },
        {
          "name": "stderr",
          "output_type": "stream",
          "text": [
            "<ipython-input-49-59282bab970b>:17: FutureWarning: You are using `torch.load` with `weights_only=False` (the current default value), which uses the default pickle module implicitly. It is possible to construct malicious pickle data which will execute arbitrary code during unpickling (See https://github.com/pytorch/pytorch/blob/main/SECURITY.md#untrusted-models for more details). In a future release, the default value for `weights_only` will be flipped to `True`. This limits the functions that could be executed during unpickling. Arbitrary objects will no longer be allowed to be loaded via this mode unless they are explicitly allowlisted by the user via `torch.serialization.add_safe_globals`. We recommend you start setting `weights_only=True` for any use case where you don't have full control of the loaded file. Please open an issue on GitHub for any issues related to this experimental feature.\n",
            "  model = torch.load(\"drive/MyDrive/MeasureMaps/GNN/GraphConv KNN/trial-\"+str(t)+\"-depth-\"+str(d)+\"-width-\"+str(h)+\"-lr-\"+str(lr)+\"-epoch-1000.pt\")\n"
          ]
        },
        {
          "name": "stdout",
          "output_type": "stream",
          "text": [
            "tensor(0.0005)\n",
            "Testing:  3 128 0.001\n",
            "tensor(0.0003)\n",
            "Testing:  3 128 0.0001\n",
            "tensor(0.0008)\n",
            "Testing:  3 256 0.0002\n",
            "tensor(0.0004)\n",
            "Testing:  3 256 0.001\n",
            "tensor(0.0003)\n",
            "Testing:  3 256 0.0001\n",
            "tensor(0.0006)\n",
            "Testing:  3 512 0.0002\n",
            "tensor(0.0002)\n",
            "Testing:  3 512 0.001\n",
            "tensor(0.0003)\n",
            "Testing:  3 512 0.0001\n",
            "tensor(0.0003)\n",
            "Testing:  4 128 0.0002\n",
            "tensor(0.0007)\n",
            "Testing:  4 128 0.001\n",
            "tensor(0.0003)\n",
            "Testing:  4 128 0.0001\n",
            "tensor(0.0014)\n",
            "Testing:  4 256 0.0002\n",
            "tensor(0.0003)\n",
            "Testing:  4 256 0.001\n",
            "tensor(0.0003)\n",
            "Testing:  4 256 0.0001\n",
            "tensor(0.0007)\n",
            "Testing:  4 512 0.0002\n",
            "tensor(0.0003)\n",
            "Testing:  4 512 0.001\n",
            "tensor(0.0003)\n",
            "Testing:  4 512 0.0001\n",
            "tensor(0.0003)\n",
            "Testing:  5 128 0.0002\n",
            "tensor(0.0007)\n",
            "Testing:  5 128 0.001\n",
            "tensor(0.0004)\n",
            "Testing:  5 128 0.0001\n",
            "tensor(0.0023)\n",
            "Testing:  5 256 0.0002\n",
            "tensor(0.0004)\n",
            "Testing:  5 256 0.001\n",
            "tensor(0.0003)\n",
            "Testing:  5 256 0.0001\n",
            "tensor(0.0008)\n",
            "Testing:  5 512 0.0002\n",
            "tensor(0.0004)\n",
            "Testing:  5 512 0.001\n",
            "tensor(0.0003)\n",
            "Testing:  5 512 0.0001\n",
            "tensor(0.0005)\n",
            "tensor(0.0002) 3 512 0.0002\n"
          ]
        }
      ],
      "source": [
        "depths = [3,4,5]\n",
        "widths = [128,256,512]\n",
        "lrs = [2e-4, 1e-3, 1e-4]\n",
        "T = 5\n",
        "\n",
        "best_loss = 100000\n",
        "best_d = -1\n",
        "best_w = -1\n",
        "best_lr = -1\n",
        "\n",
        "for d in depths: # depth\n",
        "  for h in widths: # width\n",
        "    for lr in lrs:\n",
        "      avg_loss = 0\n",
        "      print(\"Testing: \",d,h,lr)\n",
        "      for t in range(T):\n",
        "        model = torch.load(\"drive/MyDrive/MeasureMaps/GNN/GraphConv KNN/trial-\"+str(t)+\"-depth-\"+str(d)+\"-width-\"+str(h)+\"-lr-\"+str(lr)+\"-epoch-1000.pt\")\n",
        "        loss = test_GNN(model, val_loader_gnn_knn)\n",
        "        avg_loss += loss.mean()/T\n",
        "      print(avg_loss)\n",
        "      if avg_loss < best_loss:\n",
        "        best_loss = avg_loss\n",
        "        best_d = d\n",
        "        best_w = h\n",
        "        best_lr = lr\n",
        "print(best_loss, best_d, best_w, best_lr)"
      ]
    },
    {
      "cell_type": "code",
      "execution_count": null,
      "metadata": {
        "colab": {
          "base_uri": "https://localhost:8080/"
        },
        "id": "CjNp9Tx0FP39",
        "outputId": "bb3339bf-2409-4e69-ee31-1fd88b4c545f"
      },
      "outputs": [
        {
          "name": "stderr",
          "output_type": "stream",
          "text": [
            "<ipython-input-50-78f0ad510560>:4: FutureWarning: You are using `torch.load` with `weights_only=False` (the current default value), which uses the default pickle module implicitly. It is possible to construct malicious pickle data which will execute arbitrary code during unpickling (See https://github.com/pytorch/pytorch/blob/main/SECURITY.md#untrusted-models for more details). In a future release, the default value for `weights_only` will be flipped to `True`. This limits the functions that could be executed during unpickling. Arbitrary objects will no longer be allowed to be loaded via this mode unless they are explicitly allowlisted by the user via `torch.serialization.add_safe_globals`. We recommend you start setting `weights_only=True` for any use case where you don't have full control of the loaded file. Please open an issue on GitHub for any issues related to this experimental feature.\n",
            "  model = torch.load(\"drive/MyDrive/MeasureMaps/GNN/GraphConv KNN/trial-\"+str(t)+\"-depth-\"+str(best_d)+\"-width-\"+str(best_w)+\"-lr-\"+str(best_lr)+\"-epoch-1000.pt\")\n"
          ]
        },
        {
          "name": "stdout",
          "output_type": "stream",
          "text": [
            "tensor(0.0002) tensor(1.2755e-05)\n"
          ]
        }
      ],
      "source": [
        "loss_avg = torch.zeros(5)\n",
        "loss_std = torch.zeros(5)\n",
        "for t in range(T):\n",
        "  model = torch.load(\"drive/MyDrive/MeasureMaps/GNN/GraphConv KNN/trial-\"+str(t)+\"-depth-\"+str(best_d)+\"-width-\"+str(best_w)+\"-lr-\"+str(best_lr)+\"-epoch-1000.pt\")\n",
        "  loss = test_GNN(model, test_loader_gnn_knn)\n",
        "  loss_avg[t] = loss.mean()\n",
        "  loss_std[t] = loss.std()\n",
        "print(loss_avg.mean(), loss_avg.std())"
      ]
    },
    {
      "cell_type": "code",
      "execution_count": null,
      "metadata": {
        "colab": {
          "base_uri": "https://localhost:8080/"
        },
        "id": "VtbzNvDmpbC7",
        "outputId": "09b8fc25-d57b-4d80-e566-023e61230c7d"
      },
      "outputs": [
        {
          "name": "stdout",
          "output_type": "stream",
          "text": [
            "Testing:  3 128 0.0002\n"
          ]
        },
        {
          "name": "stderr",
          "output_type": "stream",
          "text": [
            "<ipython-input-51-b9836fcafe50>:17: FutureWarning: You are using `torch.load` with `weights_only=False` (the current default value), which uses the default pickle module implicitly. It is possible to construct malicious pickle data which will execute arbitrary code during unpickling (See https://github.com/pytorch/pytorch/blob/main/SECURITY.md#untrusted-models for more details). In a future release, the default value for `weights_only` will be flipped to `True`. This limits the functions that could be executed during unpickling. Arbitrary objects will no longer be allowed to be loaded via this mode unless they are explicitly allowlisted by the user via `torch.serialization.add_safe_globals`. We recommend you start setting `weights_only=True` for any use case where you don't have full control of the loaded file. Please open an issue on GitHub for any issues related to this experimental feature.\n",
            "  model = torch.load(\"drive/MyDrive/MeasureMaps/GNN/GraphConv Full/trial-\"+str(t)+\"-depth-\"+str(d)+\"-width-\"+str(h)+\"-lr-\"+str(lr)+\"-epoch-1000.pt\")\n"
          ]
        },
        {
          "name": "stdout",
          "output_type": "stream",
          "text": [
            "tensor(17.3385)\n",
            "Testing:  3 128 0.001\n",
            "tensor(0.5045)\n",
            "Testing:  3 128 0.0001\n",
            "tensor(70.8661)\n",
            "Testing:  3 256 0.0002\n",
            "tensor(7.8817)\n",
            "Testing:  3 256 0.001\n",
            "tensor(0.4313)\n",
            "Testing:  3 256 0.0001\n",
            "tensor(18.2655)\n",
            "Testing:  3 512 0.0002\n",
            "tensor(0.6840)\n",
            "Testing:  3 512 0.001\n",
            "tensor(0.1099)\n",
            "Testing:  3 512 0.0001\n",
            "tensor(4.4676)\n",
            "Testing:  4 128 0.0002\n",
            "tensor(45.6931)\n",
            "Testing:  4 128 0.001\n",
            "tensor(1.6845)\n",
            "Testing:  4 128 0.0001\n",
            "tensor(84.6195)\n",
            "Testing:  4 256 0.0002\n",
            "tensor(7.1467)\n",
            "Testing:  4 256 0.001\n",
            "tensor(0.6459)\n",
            "Testing:  4 256 0.0001\n",
            "tensor(15.2830)\n",
            "Testing:  4 512 0.0002\n",
            "tensor(2.2555)\n",
            "Testing:  4 512 0.001\n",
            "tensor(0.5295)\n",
            "Testing:  4 512 0.0001\n",
            "tensor(1.7258)\n",
            "Testing:  5 128 0.0002\n",
            "tensor(28.0823)\n",
            "Testing:  5 128 0.001\n",
            "tensor(3.5926)\n",
            "Testing:  5 128 0.0001\n",
            "tensor(200.1395)\n",
            "Testing:  5 256 0.0002\n",
            "tensor(10.9196)\n",
            "Testing:  5 256 0.001\n",
            "tensor(2.0824)\n",
            "Testing:  5 256 0.0001\n",
            "tensor(54.6190)\n",
            "Testing:  5 512 0.0002\n",
            "tensor(2.2296)\n",
            "Testing:  5 512 0.001\n",
            "tensor(0.7263)\n",
            "Testing:  5 512 0.0001\n",
            "tensor(12.8378)\n",
            "tensor(0.1099) 3 512 0.001\n"
          ]
        }
      ],
      "source": [
        "depths = [3,4,5]\n",
        "widths = [128,256,512]\n",
        "lrs = [2e-4, 1e-3, 1e-4]\n",
        "T = 5\n",
        "\n",
        "best_loss = 100000\n",
        "best_d = -1\n",
        "best_w = -1\n",
        "best_lr = -1\n",
        "\n",
        "for d in depths: # depth\n",
        "  for h in widths: # width\n",
        "    for lr in lrs:\n",
        "      avg_loss = 0\n",
        "      print(\"Testing: \",d,h,lr)\n",
        "      for t in range(T):\n",
        "        model = torch.load(\"drive/MyDrive/MeasureMaps/GNN/GraphConv Full/trial-\"+str(t)+\"-depth-\"+str(d)+\"-width-\"+str(h)+\"-lr-\"+str(lr)+\"-epoch-1000.pt\")\n",
        "        loss = test_GNN(model, val_loader_gnn_knn)\n",
        "        avg_loss += loss.mean()/T\n",
        "      print(avg_loss)\n",
        "      if avg_loss < best_loss:\n",
        "        best_loss = avg_loss\n",
        "        best_d = d\n",
        "        best_w = h\n",
        "        best_lr = lr\n",
        "print(best_loss, best_d, best_w, best_lr)"
      ]
    },
    {
      "cell_type": "code",
      "execution_count": null,
      "metadata": {
        "colab": {
          "base_uri": "https://localhost:8080/"
        },
        "id": "o09d_45wpbDC",
        "outputId": "d427aee3-669d-4834-e4be-0c40e4d14c73"
      },
      "outputs": [
        {
          "name": "stderr",
          "output_type": "stream",
          "text": [
            "<ipython-input-52-431a55c39420>:4: FutureWarning: You are using `torch.load` with `weights_only=False` (the current default value), which uses the default pickle module implicitly. It is possible to construct malicious pickle data which will execute arbitrary code during unpickling (See https://github.com/pytorch/pytorch/blob/main/SECURITY.md#untrusted-models for more details). In a future release, the default value for `weights_only` will be flipped to `True`. This limits the functions that could be executed during unpickling. Arbitrary objects will no longer be allowed to be loaded via this mode unless they are explicitly allowlisted by the user via `torch.serialization.add_safe_globals`. We recommend you start setting `weights_only=True` for any use case where you don't have full control of the loaded file. Please open an issue on GitHub for any issues related to this experimental feature.\n",
            "  model = torch.load(\"drive/MyDrive/MeasureMaps/GNN/GraphConv Full/trial-\"+str(t)+\"-depth-\"+str(best_d)+\"-width-\"+str(best_w)+\"-lr-\"+str(best_lr)+\"-epoch-1000.pt\")\n"
          ]
        },
        {
          "name": "stdout",
          "output_type": "stream",
          "text": [
            "tensor(0.1157) tensor(0.0496)\n"
          ]
        }
      ],
      "source": [
        "loss_avg = torch.zeros(5)\n",
        "loss_std = torch.zeros(5)\n",
        "for t in range(T):\n",
        "  model = torch.load(\"drive/MyDrive/MeasureMaps/GNN/GraphConv Full/trial-\"+str(t)+\"-depth-\"+str(best_d)+\"-width-\"+str(best_w)+\"-lr-\"+str(best_lr)+\"-epoch-1000.pt\")\n",
        "  loss = test_GNN(model, test_loader_gnn_knn)\n",
        "  loss_avg[t] = loss.mean()\n",
        "  loss_std[t] = loss.std()\n",
        "print(loss_avg.mean(), loss_avg.std())"
      ]
    },
    {
      "cell_type": "code",
      "execution_count": null,
      "metadata": {
        "colab": {
          "base_uri": "https://localhost:8080/"
        },
        "id": "MaqST67zpbXX",
        "outputId": "6d1bf6ac-074c-4ad4-bd5a-5b5a977d077d"
      },
      "outputs": [
        {
          "name": "stdout",
          "output_type": "stream",
          "text": [
            "Testing:  3 128 0.0002\n"
          ]
        },
        {
          "name": "stderr",
          "output_type": "stream",
          "text": [
            "<ipython-input-53-bdb98e46c4f1>:17: FutureWarning: You are using `torch.load` with `weights_only=False` (the current default value), which uses the default pickle module implicitly. It is possible to construct malicious pickle data which will execute arbitrary code during unpickling (See https://github.com/pytorch/pytorch/blob/main/SECURITY.md#untrusted-models for more details). In a future release, the default value for `weights_only` will be flipped to `True`. This limits the functions that could be executed during unpickling. Arbitrary objects will no longer be allowed to be loaded via this mode unless they are explicitly allowlisted by the user via `torch.serialization.add_safe_globals`. We recommend you start setting `weights_only=True` for any use case where you don't have full control of the loaded file. Please open an issue on GitHub for any issues related to this experimental feature.\n",
            "  model = torch.load(\"drive/MyDrive/MeasureMaps/GNN/TransformerConv KNN/trial-\"+str(t)+\"-depth-\"+str(d)+\"-width-\"+str(h)+\"-lr-\"+str(lr)+\"-epoch-1000.pt\")\n"
          ]
        },
        {
          "name": "stdout",
          "output_type": "stream",
          "text": [
            "tensor(0.0002)\n",
            "Testing:  3 128 0.001\n",
            "tensor(0.0002)\n",
            "Testing:  3 128 0.0001\n",
            "tensor(0.0002)\n",
            "Testing:  3 256 0.0002\n",
            "tensor(0.0002)\n",
            "Testing:  3 256 0.001\n",
            "tensor(0.0001)\n",
            "Testing:  3 256 0.0001\n",
            "tensor(0.0002)\n",
            "Testing:  3 512 0.0002\n",
            "tensor(0.0001)\n",
            "Testing:  3 512 0.001\n",
            "tensor(9.8128e-05)\n",
            "Testing:  3 512 0.0001\n",
            "tensor(0.0001)\n",
            "Testing:  4 128 0.0002\n",
            "tensor(0.0001)\n",
            "Testing:  4 128 0.001\n",
            "tensor(9.1806e-05)\n",
            "Testing:  4 128 0.0001\n",
            "tensor(0.0002)\n",
            "Testing:  4 256 0.0002\n",
            "tensor(8.8895e-05)\n",
            "Testing:  4 256 0.001\n",
            "tensor(5.4922e-05)\n",
            "Testing:  4 256 0.0001\n",
            "tensor(0.0001)\n",
            "Testing:  4 512 0.0002\n",
            "tensor(5.2074e-05)\n",
            "Testing:  4 512 0.001\n",
            "tensor(5.0404e-05)\n",
            "Testing:  4 512 0.0001\n",
            "tensor(6.7150e-05)\n",
            "Testing:  5 128 0.0002\n",
            "tensor(0.0001)\n",
            "Testing:  5 128 0.001\n",
            "tensor(5.7378e-05)\n",
            "Testing:  5 128 0.0001\n",
            "tensor(0.0001)\n",
            "Testing:  5 256 0.0002\n",
            "tensor(5.7305e-05)\n",
            "Testing:  5 256 0.001\n",
            "tensor(3.2874e-05)\n",
            "Testing:  5 256 0.0001\n",
            "tensor(8.0008e-05)\n",
            "Testing:  5 512 0.0002\n",
            "tensor(3.2753e-05)\n",
            "Testing:  5 512 0.001\n",
            "tensor(2.8143e-05)\n",
            "Testing:  5 512 0.0001\n",
            "tensor(4.6204e-05)\n",
            "tensor(2.8143e-05) 5 512 0.001\n"
          ]
        }
      ],
      "source": [
        "depths = [3,4,5]\n",
        "widths = [128,256,512]\n",
        "lrs = [2e-4, 1e-3, 1e-4]\n",
        "T = 5\n",
        "\n",
        "best_loss = 100000\n",
        "best_d = -1\n",
        "best_w = -1\n",
        "best_lr = -1\n",
        "\n",
        "for d in depths: # depth\n",
        "  for h in widths: # width\n",
        "    for lr in lrs:\n",
        "      avg_loss = 0\n",
        "      print(\"Testing: \",d,h,lr)\n",
        "      for t in range(T):\n",
        "        model = torch.load(\"drive/MyDrive/MeasureMaps/GNN/TransformerConv KNN/trial-\"+str(t)+\"-depth-\"+str(d)+\"-width-\"+str(h)+\"-lr-\"+str(lr)+\"-epoch-1000.pt\")\n",
        "        loss = test_GNN(model, val_loader_gnn_knn)\n",
        "        avg_loss += loss.mean()/T\n",
        "      print(avg_loss)\n",
        "      if avg_loss < best_loss:\n",
        "        best_loss = avg_loss\n",
        "        best_d = d\n",
        "        best_w = h\n",
        "        best_lr = lr\n",
        "print(best_loss, best_d, best_w, best_lr)"
      ]
    },
    {
      "cell_type": "code",
      "execution_count": null,
      "metadata": {
        "colab": {
          "base_uri": "https://localhost:8080/"
        },
        "id": "u--gkmNnpbXY",
        "outputId": "6b547f11-ac9b-47ca-a8e1-d6496556ce3d"
      },
      "outputs": [
        {
          "name": "stderr",
          "output_type": "stream",
          "text": [
            "<ipython-input-54-a1fa37ae5236>:4: FutureWarning: You are using `torch.load` with `weights_only=False` (the current default value), which uses the default pickle module implicitly. It is possible to construct malicious pickle data which will execute arbitrary code during unpickling (See https://github.com/pytorch/pytorch/blob/main/SECURITY.md#untrusted-models for more details). In a future release, the default value for `weights_only` will be flipped to `True`. This limits the functions that could be executed during unpickling. Arbitrary objects will no longer be allowed to be loaded via this mode unless they are explicitly allowlisted by the user via `torch.serialization.add_safe_globals`. We recommend you start setting `weights_only=True` for any use case where you don't have full control of the loaded file. Please open an issue on GitHub for any issues related to this experimental feature.\n",
            "  model = torch.load(\"drive/MyDrive/MeasureMaps/GNN/TransformerConv KNN/trial-\"+str(t)+\"-depth-\"+str(best_d)+\"-width-\"+str(best_w)+\"-lr-\"+str(best_lr)+\"-epoch-1000.pt\")\n"
          ]
        },
        {
          "name": "stdout",
          "output_type": "stream",
          "text": [
            "tensor(2.7917e-05) tensor(2.7811e-06)\n"
          ]
        }
      ],
      "source": [
        "loss_avg = torch.zeros(5)\n",
        "loss_std = torch.zeros(5)\n",
        "for t in range(T):\n",
        "  model = torch.load(\"drive/MyDrive/MeasureMaps/GNN/TransformerConv KNN/trial-\"+str(t)+\"-depth-\"+str(best_d)+\"-width-\"+str(best_w)+\"-lr-\"+str(best_lr)+\"-epoch-1000.pt\")\n",
        "  loss = test_GNN(model, test_loader_gnn_knn)\n",
        "  loss_avg[t] = loss.mean()\n",
        "  loss_std[t] = loss.std()\n",
        "print(loss_avg.mean(), loss_avg.std())"
      ]
    },
    {
      "cell_type": "code",
      "execution_count": null,
      "metadata": {
        "colab": {
          "background_save": true,
          "base_uri": "https://localhost:8080/"
        },
        "id": "yXr0SWcNpbqQ",
        "outputId": "a10aacd2-b94a-457a-97fe-553315eee569"
      },
      "outputs": [
        {
          "name": "stdout",
          "output_type": "stream",
          "text": [
            "Testing:  3 128 0.0002\n"
          ]
        },
        {
          "name": "stderr",
          "output_type": "stream",
          "text": [
            "<ipython-input-55-950ac492515f>:17: FutureWarning: You are using `torch.load` with `weights_only=False` (the current default value), which uses the default pickle module implicitly. It is possible to construct malicious pickle data which will execute arbitrary code during unpickling (See https://github.com/pytorch/pytorch/blob/main/SECURITY.md#untrusted-models for more details). In a future release, the default value for `weights_only` will be flipped to `True`. This limits the functions that could be executed during unpickling. Arbitrary objects will no longer be allowed to be loaded via this mode unless they are explicitly allowlisted by the user via `torch.serialization.add_safe_globals`. We recommend you start setting `weights_only=True` for any use case where you don't have full control of the loaded file. Please open an issue on GitHub for any issues related to this experimental feature.\n",
            "  model = torch.load(\"drive/MyDrive/MeasureMaps/GNN/TransformerConv Full/trial-\"+str(t)+\"-depth-\"+str(d)+\"-width-\"+str(h)+\"-lr-\"+str(lr)+\"-epoch-1000.pt\")\n"
          ]
        },
        {
          "name": "stdout",
          "output_type": "stream",
          "text": [
            "tensor(0.0029)\n",
            "Testing:  3 128 0.001\n",
            "tensor(0.0033)\n",
            "Testing:  3 128 0.0001\n",
            "tensor(0.0028)\n",
            "Testing:  3 256 0.0002\n",
            "tensor(0.0028)\n",
            "Testing:  3 256 0.001\n",
            "tensor(0.0032)\n",
            "Testing:  3 256 0.0001\n",
            "tensor(0.0028)\n",
            "Testing:  3 512 0.0002\n",
            "tensor(0.0029)\n",
            "Testing:  3 512 0.001\n",
            "tensor(0.0032)\n",
            "Testing:  3 512 0.0001\n",
            "tensor(0.0027)\n",
            "Testing:  4 128 0.0002\n",
            "tensor(0.0032)\n",
            "Testing:  4 128 0.001\n",
            "tensor(0.0036)\n",
            "Testing:  4 128 0.0001\n",
            "tensor(0.0031)\n",
            "Testing:  4 256 0.0002\n",
            "tensor(0.0031)\n",
            "Testing:  4 256 0.001\n",
            "tensor(0.0036)\n",
            "Testing:  4 256 0.0001\n",
            "tensor(0.0029)\n",
            "Testing:  4 512 0.0002\n",
            "tensor(0.0033)\n",
            "Testing:  4 512 0.001\n",
            "tensor(0.0036)\n",
            "Testing:  4 512 0.0001\n",
            "tensor(0.0029)\n",
            "Testing:  5 128 0.0002\n",
            "tensor(0.0033)\n",
            "Testing:  5 128 0.001\n",
            "tensor(0.0035)\n",
            "Testing:  5 128 0.0001\n",
            "tensor(0.0031)\n",
            "Testing:  5 256 0.0002\n",
            "tensor(0.0033)\n",
            "Testing:  5 256 0.001\n",
            "tensor(0.0036)\n",
            "Testing:  5 256 0.0001\n",
            "tensor(0.0031)\n",
            "Testing:  5 512 0.0002\n",
            "tensor(0.0033)\n",
            "Testing:  5 512 0.001\n",
            "tensor(0.0033)\n",
            "Testing:  5 512 0.0001\n",
            "tensor(0.0032)\n",
            "tensor(0.0027) 3 512 0.0001\n"
          ]
        }
      ],
      "source": [
        "depths = [3,4,5]\n",
        "widths = [128,256,512]\n",
        "lrs = [2e-4, 1e-3, 1e-4]\n",
        "T = 5\n",
        "\n",
        "best_loss = 100000\n",
        "best_d = -1\n",
        "best_w = -1\n",
        "best_lr = -1\n",
        "\n",
        "for d in depths: # depth\n",
        "  for h in widths: # width\n",
        "    for lr in lrs:\n",
        "      avg_loss = 0\n",
        "      print(\"Testing: \",d,h,lr)\n",
        "      for t in range(T):\n",
        "        model = torch.load(\"drive/MyDrive/MeasureMaps/GNN/TransformerConv Full/trial-\"+str(t)+\"-depth-\"+str(d)+\"-width-\"+str(h)+\"-lr-\"+str(lr)+\"-epoch-1000.pt\")\n",
        "        loss = test_GNN(model, val_loader_gnn_knn)\n",
        "        avg_loss += loss.mean()/T\n",
        "      print(avg_loss)\n",
        "      if avg_loss < best_loss:\n",
        "        best_loss = avg_loss\n",
        "        best_d = d\n",
        "        best_w = h\n",
        "        best_lr = lr\n",
        "print(best_loss, best_d, best_w, best_lr)"
      ]
    },
    {
      "cell_type": "code",
      "execution_count": null,
      "metadata": {
        "colab": {
          "background_save": true
        },
        "id": "OVlo8ZiBpbqR",
        "outputId": "c1ce2eab-c404-49d0-8476-4fdc7df3ab95"
      },
      "outputs": [
        {
          "name": "stderr",
          "output_type": "stream",
          "text": [
            "<ipython-input-56-9dc67e484d99>:4: FutureWarning: You are using `torch.load` with `weights_only=False` (the current default value), which uses the default pickle module implicitly. It is possible to construct malicious pickle data which will execute arbitrary code during unpickling (See https://github.com/pytorch/pytorch/blob/main/SECURITY.md#untrusted-models for more details). In a future release, the default value for `weights_only` will be flipped to `True`. This limits the functions that could be executed during unpickling. Arbitrary objects will no longer be allowed to be loaded via this mode unless they are explicitly allowlisted by the user via `torch.serialization.add_safe_globals`. We recommend you start setting `weights_only=True` for any use case where you don't have full control of the loaded file. Please open an issue on GitHub for any issues related to this experimental feature.\n",
            "  model = torch.load(\"drive/MyDrive/MeasureMaps/GNN/TransformerConv Full/trial-\"+str(t)+\"-depth-\"+str(best_d)+\"-width-\"+str(best_w)+\"-lr-\"+str(best_lr)+\"-epoch-1000.pt\")\n"
          ]
        },
        {
          "name": "stdout",
          "output_type": "stream",
          "text": [
            "tensor(0.0025) tensor(0.0001)\n"
          ]
        }
      ],
      "source": [
        "loss_avg = torch.zeros(5)\n",
        "loss_std = torch.zeros(5)\n",
        "for t in range(T):\n",
        "  model = torch.load(\"drive/MyDrive/MeasureMaps/GNN/TransformerConv Full/trial-\"+str(t)+\"-depth-\"+str(best_d)+\"-width-\"+str(best_w)+\"-lr-\"+str(best_lr)+\"-epoch-1000.pt\")\n",
        "  loss = test_GNN(model, test_loader_gnn_knn)\n",
        "  loss_avg[t] = loss.mean()\n",
        "  loss_std[t] = loss.std()\n",
        "print(loss_avg.mean(), loss_avg.std())"
      ]
    },
    {
      "cell_type": "code",
      "execution_count": null,
      "metadata": {
        "id": "Oj8oPcQTp3-x"
      },
      "outputs": [],
      "source": []
    }
  ],
  "metadata": {
    "accelerator": "GPU",
    "colab": {
      "gpuType": "A100",
      "machine_shape": "hm",
      "provenance": []
    },
    "kernelspec": {
      "display_name": "Python 3",
      "name": "python3"
    },
    "language_info": {
      "name": "python"
    }
  },
  "nbformat": 4,
  "nbformat_minor": 0
}